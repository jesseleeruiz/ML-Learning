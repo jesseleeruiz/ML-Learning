{
 "cells": [
  {
   "cell_type": "markdown",
   "metadata": {},
   "source": [
    "# Logistic Regression on the Snacks Dataset"
   ]
  },
  {
   "cell_type": "code",
   "execution_count": 1,
   "metadata": {},
   "outputs": [
    {
     "name": "stderr",
     "output_type": "stream",
     "text": [
      "Using TensorFlow backend.\n"
     ]
    }
   ],
   "source": [
    "import numpy as np\n",
    "import keras\n",
    "from keras.models import Sequential\n",
    "from keras.layers import *\n",
    "from keras import optimizers"
   ]
  },
  {
   "cell_type": "code",
   "execution_count": null,
   "metadata": {},
   "outputs": [],
   "source": []
  },
  {
   "cell_type": "markdown",
   "metadata": {},
   "source": [
    "## Building the model"
   ]
  },
  {
   "cell_type": "code",
   "execution_count": 2,
   "metadata": {},
   "outputs": [],
   "source": [
    "image_width = 32\n",
    "image_height = 32\n",
    "num_classes = 20"
   ]
  },
  {
   "cell_type": "code",
   "execution_count": 3,
   "metadata": {},
   "outputs": [],
   "source": [
    "model = Sequential()\n",
    "model.add(Flatten(input_shape=(image_height, image_width, 3)))\n",
    "model.add(Dense(num_classes))\n",
    "model.add(Activation(\"softmax\"))"
   ]
  },
  {
   "cell_type": "code",
   "execution_count": 4,
   "metadata": {},
   "outputs": [
    {
     "name": "stdout",
     "output_type": "stream",
     "text": [
      "_________________________________________________________________\n",
      "Layer (type)                 Output Shape              Param #   \n",
      "=================================================================\n",
      "flatten_1 (Flatten)          (None, 3072)              0         \n",
      "_________________________________________________________________\n",
      "dense_1 (Dense)              (None, 20)                61460     \n",
      "_________________________________________________________________\n",
      "activation_1 (Activation)    (None, 20)                0         \n",
      "=================================================================\n",
      "Total params: 61,460\n",
      "Trainable params: 61,460\n",
      "Non-trainable params: 0\n",
      "_________________________________________________________________\n"
     ]
    }
   ],
   "source": [
    "model.summary()"
   ]
  },
  {
   "cell_type": "code",
   "execution_count": 5,
   "metadata": {},
   "outputs": [],
   "source": [
    "model.compile(loss=\"categorical_crossentropy\",\n",
    "              optimizer=optimizers.Adam(lr=1e-3),\n",
    "              metrics=[\"accuracy\"])"
   ]
  },
  {
   "cell_type": "code",
   "execution_count": null,
   "metadata": {},
   "outputs": [],
   "source": []
  },
  {
   "cell_type": "markdown",
   "metadata": {},
   "source": [
    "## Loading the data"
   ]
  },
  {
   "cell_type": "code",
   "execution_count": 6,
   "metadata": {},
   "outputs": [],
   "source": [
    "images_dir = \"snacks/\"\n",
    "train_data_dir = images_dir + \"train/\"\n",
    "val_data_dir = images_dir + \"val/\"\n",
    "test_data_dir = images_dir + \"test/\""
   ]
  },
  {
   "cell_type": "code",
   "execution_count": 7,
   "metadata": {},
   "outputs": [],
   "source": [
    "from keras.preprocessing import image\n",
    "img = image.load_img(train_data_dir + \"apple/cecd90f5d46f57b0.jpg\", \n",
    "                     target_size=(image_width, image_height))"
   ]
  },
  {
   "cell_type": "code",
   "execution_count": 8,
   "metadata": {},
   "outputs": [
    {
     "data": {
      "text/plain": [
       "<matplotlib.image.AxesImage at 0x124788c88>"
      ]
     },
     "execution_count": 8,
     "metadata": {},
     "output_type": "execute_result"
    },
    {
     "data": {
      "image/png": "[encoded data removed]",
      "text/plain": [
       "<matplotlib.figure.Figure at 0x121d72470>"
      ]
     },
     "metadata": {},
     "output_type": "display_data"
    }
   ],
   "source": [
    "%matplotlib inline\n",
    "import matplotlib.pyplot as plt\n",
    "plt.imshow(img)"
   ]
  },
  {
   "cell_type": "code",
   "execution_count": 9,
   "metadata": {},
   "outputs": [],
   "source": [
    "x = image.img_to_array(img)"
   ]
  },
  {
   "cell_type": "code",
   "execution_count": 10,
   "metadata": {
    "scrolled": true
   },
   "outputs": [
    {
     "data": {
      "text/plain": [
       "array([[[215., 215., 217.],\n",
       "        [211., 211., 211.],\n",
       "        [207., 207., 207.],\n",
       "        ...,\n",
       "        [152., 150., 137.],\n",
       "        [148., 146., 133.],\n",
       "        [149., 147., 132.]],\n",
       "\n",
       "       [[213., 213., 215.],\n",
       "        [210., 210., 210.],\n",
       "        [207., 207., 207.],\n",
       "        ...,\n",
       "        [157., 150., 134.],\n",
       "        [153., 146., 130.],\n",
       "        [153., 146., 128.]],\n",
       "\n",
       "       [[219., 220., 222.],\n",
       "        [220., 221., 223.],\n",
       "        [218., 219., 221.],\n",
       "        ...,\n",
       "        [156., 149., 133.],\n",
       "        [152., 145., 129.],\n",
       "        [153., 146., 130.]],\n",
       "\n",
       "       ...,\n",
       "\n",
       "       [[172.,  50.,  65.],\n",
       "        [131.,  34.,  41.],\n",
       "        [ 95.,  23.,  27.],\n",
       "        ...,\n",
       "        [193., 121.,  81.],\n",
       "        [181.,  90.,  63.],\n",
       "        [140.,  68.,  46.]],\n",
       "\n",
       "       [[168.,  54.,  64.],\n",
       "        [123.,  32.,  41.],\n",
       "        [118.,  33.,  40.],\n",
       "        ...,\n",
       "        [177., 118.,  74.],\n",
       "        [163.,  64.,  45.],\n",
       "        [136.,  49.,  39.]],\n",
       "\n",
       "       [[165.,  55.,  66.],\n",
       "        [132.,  35.,  46.],\n",
       "        [120.,  29.,  38.],\n",
       "        ...,\n",
       "        [172., 116.,  67.],\n",
       "        [155.,  89.,  55.],\n",
       "        [111.,  25.,  24.]]], dtype=float32)"
      ]
     },
     "execution_count": 10,
     "metadata": {},
     "output_type": "execute_result"
    }
   ],
   "source": [
    "x"
   ]
  },
  {
   "cell_type": "code",
   "execution_count": 11,
   "metadata": {},
   "outputs": [],
   "source": [
    "def normalize_pixels(image):\n",
    "    return image / 127.5 - 1"
   ]
  },
  {
   "cell_type": "code",
   "execution_count": 12,
   "metadata": {},
   "outputs": [],
   "source": [
    "x = image.img_to_array(img)\n",
    "x = normalize_pixels(x)\n",
    "x = np.expand_dims(x, axis=0)"
   ]
  },
  {
   "cell_type": "code",
   "execution_count": 13,
   "metadata": {},
   "outputs": [
    {
     "data": {
      "text/plain": [
       "(1, 32, 32, 3)"
      ]
     },
     "execution_count": 13,
     "metadata": {},
     "output_type": "execute_result"
    }
   ],
   "source": [
    "x.shape"
   ]
  },
  {
   "cell_type": "code",
   "execution_count": 14,
   "metadata": {
    "scrolled": true
   },
   "outputs": [
    {
     "data": {
      "text/plain": [
       "array([[[[ 0.6862745 ,  0.6862745 ,  0.7019608 ],\n",
       "         [ 0.654902  ,  0.654902  ,  0.654902  ],\n",
       "         [ 0.62352943,  0.62352943,  0.62352943],\n",
       "         ...,\n",
       "         [ 0.19215691,  0.17647064,  0.07450986],\n",
       "         [ 0.16078436,  0.14509809,  0.04313731],\n",
       "         [ 0.1686275 ,  0.15294123,  0.03529418]],\n",
       "\n",
       "        [[ 0.67058825,  0.67058825,  0.6862745 ],\n",
       "         [ 0.64705884,  0.64705884,  0.64705884],\n",
       "         [ 0.62352943,  0.62352943,  0.62352943],\n",
       "         ...,\n",
       "         [ 0.2313726 ,  0.17647064,  0.05098045],\n",
       "         [ 0.20000005,  0.14509809,  0.0196079 ],\n",
       "         [ 0.20000005,  0.14509809,  0.00392163]],\n",
       "\n",
       "        [[ 0.7176471 ,  0.7254902 ,  0.7411765 ],\n",
       "         [ 0.7254902 ,  0.73333335,  0.7490196 ],\n",
       "         [ 0.70980394,  0.7176471 ,  0.73333335],\n",
       "         ...,\n",
       "         [ 0.22352946,  0.1686275 ,  0.04313731],\n",
       "         [ 0.19215691,  0.13725495,  0.01176476],\n",
       "         [ 0.20000005,  0.14509809,  0.0196079 ]],\n",
       "\n",
       "        ...,\n",
       "\n",
       "        [[ 0.34901965, -0.60784316, -0.49019605],\n",
       "         [ 0.02745104, -0.73333335, -0.6784314 ],\n",
       "         [-0.25490195, -0.81960785, -0.7882353 ],\n",
       "         ...,\n",
       "         [ 0.5137255 , -0.05098039, -0.36470586],\n",
       "         [ 0.41960788, -0.29411763, -0.5058824 ],\n",
       "         [ 0.09803927, -0.46666664, -0.6392157 ]],\n",
       "\n",
       "        [[ 0.3176471 , -0.5764706 , -0.4980392 ],\n",
       "         [-0.03529412, -0.7490196 , -0.6784314 ],\n",
       "         [-0.0745098 , -0.7411765 , -0.6862745 ],\n",
       "         ...,\n",
       "         [ 0.38823533, -0.0745098 , -0.41960782],\n",
       "         [ 0.27843142, -0.4980392 , -0.64705884],\n",
       "         [ 0.06666672, -0.6156863 , -0.69411767]],\n",
       "\n",
       "        [[ 0.2941177 , -0.5686275 , -0.4823529 ],\n",
       "         [ 0.03529418, -0.7254902 , -0.6392157 ],\n",
       "         [-0.05882353, -0.77254903, -0.7019608 ],\n",
       "         ...,\n",
       "         [ 0.34901965, -0.09019607, -0.47450978],\n",
       "         [ 0.21568632, -0.30196077, -0.5686275 ],\n",
       "         [-0.12941176, -0.8039216 , -0.8117647 ]]]], dtype=float32)"
      ]
     },
     "execution_count": 14,
     "metadata": {},
     "output_type": "execute_result"
    }
   ],
   "source": [
    "x"
   ]
  },
  {
   "cell_type": "code",
   "execution_count": 15,
   "metadata": {},
   "outputs": [
    {
     "data": {
      "text/plain": [
       "-0.098154075"
      ]
     },
     "execution_count": 15,
     "metadata": {},
     "output_type": "execute_result"
    }
   ],
   "source": [
    "x.mean()"
   ]
  },
  {
   "cell_type": "code",
   "execution_count": 16,
   "metadata": {},
   "outputs": [
    {
     "data": {
      "text/plain": [
       "0.52534205"
      ]
     },
     "execution_count": 16,
     "metadata": {},
     "output_type": "execute_result"
    }
   ],
   "source": [
    "x.std()"
   ]
  },
  {
   "cell_type": "code",
   "execution_count": null,
   "metadata": {},
   "outputs": [],
   "source": []
  },
  {
   "cell_type": "markdown",
   "metadata": {},
   "source": [
    "## Making a prediction with the untrained model"
   ]
  },
  {
   "cell_type": "code",
   "execution_count": 17,
   "metadata": {},
   "outputs": [
    {
     "name": "stdout",
     "output_type": "stream",
     "text": [
      "[[0.03040042 0.03667034 0.01969104 0.08913171 0.0908057  0.01312462\n",
      "  0.06571084 0.03653405 0.06878211 0.10880984 0.0932833  0.02263427\n",
      "  0.02721603 0.00795279 0.10618542 0.02859131 0.03713723 0.03892739\n",
      "  0.04704713 0.03136442]]\n"
     ]
    }
   ],
   "source": [
    "pred = model.predict(x)\n",
    "print(pred)"
   ]
  },
  {
   "cell_type": "code",
   "execution_count": 18,
   "metadata": {},
   "outputs": [
    {
     "data": {
      "text/plain": [
       "0.99999994"
      ]
     },
     "execution_count": 18,
     "metadata": {},
     "output_type": "execute_result"
    }
   ],
   "source": [
    "pred.sum()"
   ]
  },
  {
   "cell_type": "code",
   "execution_count": 19,
   "metadata": {},
   "outputs": [
    {
     "data": {
      "text/plain": [
       "9"
      ]
     },
     "execution_count": 19,
     "metadata": {},
     "output_type": "execute_result"
    }
   ],
   "source": [
    "np.argmax(pred)"
   ]
  },
  {
   "cell_type": "code",
   "execution_count": 20,
   "metadata": {},
   "outputs": [
    {
     "data": {
      "text/plain": [
       "0.10880984"
      ]
     },
     "execution_count": 20,
     "metadata": {},
     "output_type": "execute_result"
    }
   ],
   "source": [
    "np.max(pred)"
   ]
  },
  {
   "cell_type": "code",
   "execution_count": null,
   "metadata": {},
   "outputs": [],
   "source": []
  },
  {
   "cell_type": "markdown",
   "metadata": {},
   "source": [
    "## Using generators"
   ]
  },
  {
   "cell_type": "code",
   "execution_count": 21,
   "metadata": {},
   "outputs": [],
   "source": [
    "from keras.preprocessing.image import ImageDataGenerator\n",
    "datagen = ImageDataGenerator(preprocessing_function=normalize_pixels)"
   ]
  },
  {
   "cell_type": "code",
   "execution_count": 22,
   "metadata": {},
   "outputs": [
    {
     "name": "stdout",
     "output_type": "stream",
     "text": [
      "Found 4838 images belonging to 20 classes.\n",
      "Found 955 images belonging to 20 classes.\n",
      "Found 952 images belonging to 20 classes.\n"
     ]
    }
   ],
   "source": [
    "batch_size = 64\n",
    "\n",
    "train_generator = datagen.flow_from_directory(\n",
    "                    train_data_dir,\n",
    "                    target_size=(image_width, image_height),\n",
    "                    batch_size=batch_size,\n",
    "                    class_mode=\"categorical\",\n",
    "                    shuffle=True)\n",
    "\n",
    "val_generator = datagen.flow_from_directory(\n",
    "                    val_data_dir,\n",
    "                    target_size=(image_width, image_height),\n",
    "                    batch_size=batch_size,\n",
    "                    class_mode=\"categorical\",\n",
    "                    shuffle=False)\n",
    "\n",
    "test_generator = datagen.flow_from_directory(\n",
    "                    test_data_dir,\n",
    "                    target_size=(image_width, image_height),\n",
    "                    batch_size=batch_size,\n",
    "                    class_mode=\"categorical\",\n",
    "                    shuffle=False)"
   ]
  },
  {
   "cell_type": "code",
   "execution_count": 23,
   "metadata": {},
   "outputs": [
    {
     "name": "stdout",
     "output_type": "stream",
     "text": [
      "(64, 32, 32, 3)\n",
      "(64, 20)\n"
     ]
    }
   ],
   "source": [
    "x, y = next(train_generator)\n",
    "print(x.shape)\n",
    "print(y.shape)"
   ]
  },
  {
   "cell_type": "code",
   "execution_count": null,
   "metadata": {},
   "outputs": [],
   "source": []
  },
  {
   "cell_type": "markdown",
   "metadata": {},
   "source": [
    "## Looking at the labels"
   ]
  },
  {
   "cell_type": "code",
   "execution_count": 24,
   "metadata": {},
   "outputs": [
    {
     "data": {
      "text/plain": [
       "array([0., 1., 0., 0., 0., 0., 0., 0., 0., 0., 0., 0., 0., 0., 0., 0., 0.,\n",
       "       0., 0., 0.], dtype=float32)"
      ]
     },
     "execution_count": 24,
     "metadata": {},
     "output_type": "execute_result"
    }
   ],
   "source": [
    "y[0]"
   ]
  },
  {
   "cell_type": "code",
   "execution_count": 25,
   "metadata": {},
   "outputs": [
    {
     "data": {
      "text/plain": [
       "{'apple': 0,\n",
       " 'banana': 1,\n",
       " 'cake': 2,\n",
       " 'candy': 3,\n",
       " 'carrot': 4,\n",
       " 'cookie': 5,\n",
       " 'doughnut': 6,\n",
       " 'grape': 7,\n",
       " 'hot dog': 8,\n",
       " 'ice cream': 9,\n",
       " 'juice': 10,\n",
       " 'muffin': 11,\n",
       " 'orange': 12,\n",
       " 'pineapple': 13,\n",
       " 'popcorn': 14,\n",
       " 'pretzel': 15,\n",
       " 'salad': 16,\n",
       " 'strawberry': 17,\n",
       " 'waffle': 18,\n",
       " 'watermelon': 19}"
      ]
     },
     "execution_count": 25,
     "metadata": {},
     "output_type": "execute_result"
    }
   ],
   "source": [
    "train_generator.class_indices"
   ]
  },
  {
   "cell_type": "code",
   "execution_count": 26,
   "metadata": {},
   "outputs": [
    {
     "data": {
      "text/plain": [
       "{0: 'apple',\n",
       " 1: 'banana',\n",
       " 2: 'cake',\n",
       " 3: 'candy',\n",
       " 4: 'carrot',\n",
       " 5: 'cookie',\n",
       " 6: 'doughnut',\n",
       " 7: 'grape',\n",
       " 8: 'hot dog',\n",
       " 9: 'ice cream',\n",
       " 10: 'juice',\n",
       " 11: 'muffin',\n",
       " 12: 'orange',\n",
       " 13: 'pineapple',\n",
       " 14: 'popcorn',\n",
       " 15: 'pretzel',\n",
       " 16: 'salad',\n",
       " 17: 'strawberry',\n",
       " 18: 'waffle',\n",
       " 19: 'watermelon'}"
      ]
     },
     "execution_count": 26,
     "metadata": {},
     "output_type": "execute_result"
    }
   ],
   "source": [
    "index2class = {v:k for k,v in train_generator.class_indices.items()}\n",
    "index2class"
   ]
  },
  {
   "cell_type": "code",
   "execution_count": 27,
   "metadata": {},
   "outputs": [
    {
     "data": {
      "text/plain": [
       "'banana'"
      ]
     },
     "execution_count": 27,
     "metadata": {},
     "output_type": "execute_result"
    }
   ],
   "source": [
    "index2class[np.argmax(y[0])]"
   ]
  },
  {
   "cell_type": "code",
   "execution_count": null,
   "metadata": {},
   "outputs": [],
   "source": []
  },
  {
   "cell_type": "markdown",
   "metadata": {},
   "source": [
    "## Evaluating the untrained model on the entire dataset"
   ]
  },
  {
   "cell_type": "code",
   "execution_count": 29,
   "metadata": {},
   "outputs": [
    {
     "data": {
      "text/plain": [
       "[3.275539584520484, 0.049369747961769586]"
      ]
     },
     "execution_count": 29,
     "metadata": {},
     "output_type": "execute_result"
    }
   ],
   "source": [
    "model.evaluate_generator(test_generator)"
   ]
  },
  {
   "cell_type": "code",
   "execution_count": 31,
   "metadata": {},
   "outputs": [
    {
     "data": {
      "text/plain": [
       "[3.249962499586202, 0.05808185200804075]"
      ]
     },
     "execution_count": 31,
     "metadata": {},
     "output_type": "execute_result"
    }
   ],
   "source": [
    "model.evaluate_generator(train_generator)"
   ]
  },
  {
   "cell_type": "code",
   "execution_count": 33,
   "metadata": {},
   "outputs": [
    {
     "data": {
      "text/plain": [
       "[3.274256010954293, 0.04502617801047121]"
      ]
     },
     "execution_count": 33,
     "metadata": {},
     "output_type": "execute_result"
    }
   ],
   "source": [
    "model.evaluate_generator(val_generator)"
   ]
  },
  {
   "cell_type": "code",
   "execution_count": null,
   "metadata": {},
   "outputs": [],
   "source": []
  },
  {
   "cell_type": "markdown",
   "metadata": {},
   "source": [
    "## Training"
   ]
  },
  {
   "cell_type": "code",
   "execution_count": 34,
   "metadata": {},
   "outputs": [],
   "source": [
    "import warnings\n",
    "warnings.filterwarnings(\"ignore\")"
   ]
  },
  {
   "cell_type": "code",
   "execution_count": 35,
   "metadata": {},
   "outputs": [
    {
     "name": "stdout",
     "output_type": "stream",
     "text": [
      "Epoch 1/5\n",
      "76/76 [==============================] - 4s 57ms/step - loss: 3.0864 - acc: 0.1109 - val_loss: 3.0146 - val_acc: 0.1288\n",
      "Epoch 2/5\n",
      "76/76 [==============================] - 5s 61ms/step - loss: 2.6893 - acc: 0.2103 - val_loss: 3.0496 - val_acc: 0.1330\n",
      "Epoch 3/5\n",
      "76/76 [==============================] - 5s 64ms/step - loss: 2.5040 - acc: 0.2646 - val_loss: 3.0809 - val_acc: 0.1435\n",
      "Epoch 4/5\n",
      "76/76 [==============================] - 5s 65ms/step - loss: 2.3414 - acc: 0.3116 - val_loss: 3.1203 - val_acc: 0.1445\n",
      "Epoch 5/5\n",
      "76/76 [==============================] - 4s 58ms/step - loss: 2.2051 - acc: 0.3542 - val_loss: 3.1149 - val_acc: 0.1340\n"
     ]
    },
    {
     "data": {
      "text/plain": [
       "<keras.callbacks.History at 0x124879898>"
      ]
     },
     "execution_count": 35,
     "metadata": {},
     "output_type": "execute_result"
    }
   ],
   "source": [
    "model.fit_generator(train_generator, \n",
    "                    validation_data=val_generator,\n",
    "                    epochs=5,\n",
    "                    workers=4)"
   ]
  },
  {
   "cell_type": "code",
   "execution_count": 36,
   "metadata": {},
   "outputs": [
    {
     "name": "stdout",
     "output_type": "stream",
     "text": [
      "Epoch 1/10\n",
      "76/76 [==============================] - 5s 61ms/step - loss: 2.0750 - acc: 0.4029 - val_loss: 3.1808 - val_acc: 0.1173\n",
      "Epoch 2/10\n",
      "76/76 [==============================] - 5s 61ms/step - loss: 1.9775 - acc: 0.4347 - val_loss: 3.2021 - val_acc: 0.1236\n",
      "Epoch 3/10\n",
      "76/76 [==============================] - 4s 57ms/step - loss: 1.8880 - acc: 0.4692 - val_loss: 3.2398 - val_acc: 0.1340\n",
      "Epoch 4/10\n",
      "76/76 [==============================] - 4s 58ms/step - loss: 1.8007 - acc: 0.4940 - val_loss: 3.2854 - val_acc: 0.1267\n",
      "Epoch 5/10\n",
      "76/76 [==============================] - 4s 57ms/step - loss: 1.7303 - acc: 0.5201 - val_loss: 3.3336 - val_acc: 0.1183\n",
      "Epoch 6/10\n",
      "76/76 [==============================] - 4s 55ms/step - loss: 1.6676 - acc: 0.5360 - val_loss: 3.3562 - val_acc: 0.1131\n",
      "Epoch 7/10\n",
      "76/76 [==============================] - 4s 56ms/step - loss: 1.5953 - acc: 0.5764 - val_loss: 3.4066 - val_acc: 0.1309\n",
      "Epoch 8/10\n",
      "76/76 [==============================] - 4s 54ms/step - loss: 1.5331 - acc: 0.5897 - val_loss: 3.4288 - val_acc: 0.1089\n",
      "Epoch 9/10\n",
      "76/76 [==============================] - 4s 56ms/step - loss: 1.4851 - acc: 0.6026 - val_loss: 3.4970 - val_acc: 0.1204\n",
      "Epoch 10/10\n",
      "76/76 [==============================] - 4s 59ms/step - loss: 1.4149 - acc: 0.6340 - val_loss: 3.5042 - val_acc: 0.1194\n"
     ]
    },
    {
     "data": {
      "text/plain": [
       "<keras.callbacks.History at 0x12488aeb8>"
      ]
     },
     "execution_count": 36,
     "metadata": {},
     "output_type": "execute_result"
    }
   ],
   "source": [
    "model.fit_generator(train_generator, \n",
    "                    validation_data=val_generator,\n",
    "                    epochs=10,\n",
    "                    workers=4)"
   ]
  },
  {
   "cell_type": "code",
   "execution_count": 37,
   "metadata": {},
   "outputs": [
    {
     "data": {
      "text/plain": [
       "[3.521217374240651, 0.11764705885483437]"
      ]
     },
     "execution_count": 37,
     "metadata": {},
     "output_type": "execute_result"
    }
   ],
   "source": [
    "model.evaluate_generator(test_generator)"
   ]
  },
  {
   "cell_type": "code",
   "execution_count": 38,
   "metadata": {},
   "outputs": [
    {
     "name": "stdout",
     "output_type": "stream",
     "text": [
      "Epoch 1/10\n",
      "76/76 [==============================] - 4s 56ms/step - loss: 1.3876 - acc: 0.6356 - val_loss: 3.5501 - val_acc: 0.1110\n",
      "Epoch 2/10\n",
      "76/76 [==============================] - 4s 56ms/step - loss: 1.3402 - acc: 0.6577 - val_loss: 3.5812 - val_acc: 0.0984\n",
      "Epoch 3/10\n",
      "76/76 [==============================] - 4s 54ms/step - loss: 1.2889 - acc: 0.6793 - val_loss: 3.6035 - val_acc: 0.1079\n",
      "Epoch 4/10\n",
      "76/76 [==============================] - 4s 54ms/step - loss: 1.2487 - acc: 0.6908 - val_loss: 3.5895 - val_acc: 0.1173\n",
      "Epoch 5/10\n",
      "76/76 [==============================] - 4s 53ms/step - loss: 1.2127 - acc: 0.6996 - val_loss: 3.6349 - val_acc: 0.1204\n",
      "Epoch 6/10\n",
      "76/76 [==============================] - 4s 54ms/step - loss: 1.1771 - acc: 0.7090 - val_loss: 3.7035 - val_acc: 0.1267\n",
      "Epoch 7/10\n",
      "76/76 [==============================] - 4s 55ms/step - loss: 1.1447 - acc: 0.7193 - val_loss: 3.7775 - val_acc: 0.1194\n",
      "Epoch 8/10\n",
      "76/76 [==============================] - 4s 53ms/step - loss: 1.1028 - acc: 0.7402 - val_loss: 3.7753 - val_acc: 0.1173\n",
      "Epoch 9/10\n",
      "76/76 [==============================] - 4s 55ms/step - loss: 1.0736 - acc: 0.7472 - val_loss: 3.8115 - val_acc: 0.1173\n",
      "Epoch 10/10\n",
      "76/76 [==============================] - 4s 54ms/step - loss: 1.0353 - acc: 0.7593 - val_loss: 3.8354 - val_acc: 0.1079\n"
     ]
    },
    {
     "data": {
      "text/plain": [
       "<keras.callbacks.History at 0x125944e80>"
      ]
     },
     "execution_count": 38,
     "metadata": {},
     "output_type": "execute_result"
    }
   ],
   "source": [
    "model.fit_generator(train_generator, \n",
    "                    validation_data=val_generator,\n",
    "                    epochs=10,\n",
    "                    workers=4)"
   ]
  },
  {
   "cell_type": "code",
   "execution_count": 39,
   "metadata": {},
   "outputs": [
    {
     "data": {
      "text/plain": [
       "[3.8958773572905723, 0.10189075649035077]"
      ]
     },
     "execution_count": 39,
     "metadata": {},
     "output_type": "execute_result"
    }
   ],
   "source": [
    "model.evaluate_generator(test_generator)"
   ]
  },
  {
   "cell_type": "code",
   "execution_count": null,
   "metadata": {},
   "outputs": [],
   "source": []
  }
 ],
 "metadata": {
  "kernelspec": {
   "display_name": "Python 3",
   "language": "python",
   "name": "python3"
  },
  "language_info": {
   "codemirror_mode": {
    "name": "ipython",
    "version": 3
   },
   "file_extension": ".py",
   "mimetype": "text/x-python",
   "name": "python",
   "nbconvert_exporter": "python",
   "pygments_lexer": "ipython3",
   "version": "3.6.4"
  }
 },
 "nbformat": 4,
 "nbformat_minor": 2
}
