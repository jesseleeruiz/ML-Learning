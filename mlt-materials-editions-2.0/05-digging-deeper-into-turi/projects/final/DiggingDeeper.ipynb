{
 "cells": [
  {
   "cell_type": "markdown",
   "metadata": {},
   "source": [
    "## Transfer learning with SqueezeNet\n",
    "\n",
    "These cells do the essential tasks from the previous chapter: load training and testing data, add the labels, then train and evaluate the model. The only difference is using SqueezeNet instead of VisionFeaturePrint_Screen as the base model for transfer learning.\n",
    "\n",
    "There's an option to load the pre-trained model."
   ]
  },
  {
   "cell_type": "code",
   "execution_count": 1,
   "metadata": {},
   "outputs": [],
   "source": [
    "import turicreate as tc\n",
    "import matplotlib.pyplot as plt"
   ]
  },
  {
   "cell_type": "code",
   "execution_count": 2,
   "metadata": {},
   "outputs": [
    {
     "data": {
      "text/html": [
       "<pre>Read 1163 images in 5.05759 secs\tspeed: 229.952 file/sec</pre>"
      ],
      "text/plain": [
       "Read 1163 images in 5.05759 secs\tspeed: 229.952 file/sec"
      ]
     },
     "metadata": {},
     "output_type": "display_data"
    },
    {
     "data": {
      "text/html": [
       "<pre>Read 1398 images in 10.0892 secs\tspeed: 46.7047 file/sec</pre>"
      ],
      "text/plain": [
       "Read 1398 images in 10.0892 secs\tspeed: 46.7047 file/sec"
      ]
     },
     "metadata": {},
     "output_type": "display_data"
    },
    {
     "data": {
      "text/html": [
       "<pre>Read 1807 images in 15.1194 secs\tspeed: 81.3087 file/sec</pre>"
      ],
      "text/plain": [
       "Read 1807 images in 15.1194 secs\tspeed: 81.3087 file/sec"
      ]
     },
     "metadata": {},
     "output_type": "display_data"
    },
    {
     "data": {
      "text/html": [
       "<pre>Read 2010 images in 20.1275 secs\tspeed: 40.5341 file/sec</pre>"
      ],
      "text/plain": [
       "Read 2010 images in 20.1275 secs\tspeed: 40.5341 file/sec"
      ]
     },
     "metadata": {},
     "output_type": "display_data"
    },
    {
     "data": {
      "text/html": [
       "<pre>Read 2214 images in 25.1765 secs\tspeed: 40.4041 file/sec</pre>"
      ],
      "text/plain": [
       "Read 2214 images in 25.1765 secs\tspeed: 40.4041 file/sec"
      ]
     },
     "metadata": {},
     "output_type": "display_data"
    },
    {
     "data": {
      "text/html": [
       "<pre>Read 2769 images in 30.1904 secs\tspeed: 110.693 file/sec</pre>"
      ],
      "text/plain": [
       "Read 2769 images in 30.1904 secs\tspeed: 110.693 file/sec"
      ]
     },
     "metadata": {},
     "output_type": "display_data"
    },
    {
     "data": {
      "text/html": [
       "<pre>Read 3468 images in 35.2041 secs\tspeed: 139.419 file/sec</pre>"
      ],
      "text/plain": [
       "Read 3468 images in 35.2041 secs\tspeed: 139.419 file/sec"
      ]
     },
     "metadata": {},
     "output_type": "display_data"
    },
    {
     "data": {
      "text/html": [
       "<pre>Read 4522 images in 40.2198 secs\tspeed: 210.139 file/sec</pre>"
      ],
      "text/plain": [
       "Read 4522 images in 40.2198 secs\tspeed: 210.139 file/sec"
      ]
     },
     "metadata": {},
     "output_type": "display_data"
    },
    {
     "data": {
      "text/plain": [
       "4838"
      ]
     },
     "execution_count": 2,
     "metadata": {},
     "output_type": "execute_result"
    }
   ],
   "source": [
    "train_data = tc.image_analysis.load_images(\"snacks/train\", with_path=True)\n",
    "len(train_data)"
   ]
  },
  {
   "cell_type": "code",
   "execution_count": 3,
   "metadata": {},
   "outputs": [
    {
     "data": {
      "text/plain": [
       "952"
      ]
     },
     "execution_count": 3,
     "metadata": {},
     "output_type": "execute_result"
    }
   ],
   "source": [
    "test_data = tc.image_analysis.load_images(\"snacks/test\", with_path=True)\n",
    "len(test_data)"
   ]
  },
  {
   "cell_type": "code",
   "execution_count": 4,
   "metadata": {},
   "outputs": [
    {
     "name": "stdout",
     "output_type": "stream",
     "text": [
      "+------------+-------+\n",
      "|   value    | count |\n",
      "+------------+-------+\n",
      "| pineapple  |  260  |\n",
      "|   juice    |  250  |\n",
      "|   banana   |  250  |\n",
      "|   apple    |  250  |\n",
      "|  doughnut  |  250  |\n",
      "| watermelon |  250  |\n",
      "|   waffle   |  250  |\n",
      "|   muffin   |  250  |\n",
      "|   salad    |  250  |\n",
      "| ice cream  |  250  |\n",
      "|  hot dog   |  250  |\n",
      "|   grape    |  250  |\n",
      "|   carrot   |  249  |\n",
      "|    cake    |  249  |\n",
      "|   cookie   |  249  |\n",
      "|   orange   |  249  |\n",
      "|   candy    |  249  |\n",
      "| strawberry |  249  |\n",
      "|  popcorn   |  180  |\n",
      "|  pretzel   |  154  |\n",
      "+------------+-------+\n",
      "[20 rows x 2 columns]\n",
      "\n",
      "+------------+-------+\n",
      "|   value    | count |\n",
      "+------------+-------+\n",
      "|  hot dog   |   50  |\n",
      "|   juice    |   50  |\n",
      "|   banana   |   50  |\n",
      "|   orange   |   50  |\n",
      "|   cookie   |   50  |\n",
      "|   carrot   |   50  |\n",
      "|   waffle   |   50  |\n",
      "|    cake    |   50  |\n",
      "|   salad    |   50  |\n",
      "| ice cream  |   50  |\n",
      "|   candy    |   50  |\n",
      "|   grape    |   50  |\n",
      "| watermelon |   50  |\n",
      "|   apple    |   50  |\n",
      "|  doughnut  |   50  |\n",
      "| strawberry |   49  |\n",
      "|   muffin   |   48  |\n",
      "|  popcorn   |   40  |\n",
      "| pineapple  |   40  |\n",
      "|  pretzel   |   25  |\n",
      "+------------+-------+\n",
      "[20 rows x 2 columns]\n",
      "\n"
     ]
    }
   ],
   "source": [
    "import os\n",
    "train_data[\"label\"] = train_data[\"path\"].apply(lambda path: \n",
    "                                               os.path.basename(os.path.split(path)[0]))\n",
    "test_data[\"label\"] = test_data[\"path\"].apply(lambda path: \n",
    "                                             os.path.basename(os.path.split(path)[0]))\n",
    "train_data[\"label\"].value_counts().print_rows(num_rows=20)\n",
    "test_data[\"label\"].value_counts().print_rows(num_rows=20)"
   ]
  },
  {
   "cell_type": "markdown",
   "metadata": {},
   "source": [
    "Run the next cell to train the model.\n",
    "\n",
    "**OR**\n",
    "\n",
    "Run the cell **after** the next cell, to load the model from the current folder."
   ]
  },
  {
   "cell_type": "code",
   "execution_count": 5,
   "metadata": {},
   "outputs": [
    {
     "data": {
      "text/html": [
       "<pre>Analyzing and extracting image features.</pre>"
      ],
      "text/plain": [
       "Analyzing and extracting image features."
      ]
     },
     "metadata": {},
     "output_type": "display_data"
    },
    {
     "data": {
      "text/html": [
       "<pre>+------------------+--------------+------------------+</pre>"
      ],
      "text/plain": [
       "+------------------+--------------+------------------+"
      ]
     },
     "metadata": {},
     "output_type": "display_data"
    },
    {
     "data": {
      "text/html": [
       "<pre>| Images Processed | Elapsed Time | Percent Complete |</pre>"
      ],
      "text/plain": [
       "| Images Processed | Elapsed Time | Percent Complete |"
      ]
     },
     "metadata": {},
     "output_type": "display_data"
    },
    {
     "data": {
      "text/html": [
       "<pre>+------------------+--------------+------------------+</pre>"
      ],
      "text/plain": [
       "+------------------+--------------+------------------+"
      ]
     },
     "metadata": {},
     "output_type": "display_data"
    },
    {
     "data": {
      "text/html": [
       "<pre>| 64               | 604.784ms    | 1.25%            |</pre>"
      ],
      "text/plain": [
       "| 64               | 604.784ms    | 1.25%            |"
      ]
     },
     "metadata": {},
     "output_type": "display_data"
    },
    {
     "data": {
      "text/html": [
       "<pre>| 128              | 744.457ms    | 2.5%             |</pre>"
      ],
      "text/plain": [
       "| 128              | 744.457ms    | 2.5%             |"
      ]
     },
     "metadata": {},
     "output_type": "display_data"
    },
    {
     "data": {
      "text/html": [
       "<pre>| 192              | 884.334ms    | 3.75%            |</pre>"
      ],
      "text/plain": [
       "| 192              | 884.334ms    | 3.75%            |"
      ]
     },
     "metadata": {},
     "output_type": "display_data"
    },
    {
     "data": {
      "text/html": [
       "<pre>| 256              | 1.02s        | 5.25%            |</pre>"
      ],
      "text/plain": [
       "| 256              | 1.02s        | 5.25%            |"
      ]
     },
     "metadata": {},
     "output_type": "display_data"
    },
    {
     "data": {
      "text/html": [
       "<pre>| 320              | 1.16s        | 6.5%             |</pre>"
      ],
      "text/plain": [
       "| 320              | 1.16s        | 6.5%             |"
      ]
     },
     "metadata": {},
     "output_type": "display_data"
    },
    {
     "data": {
      "text/html": [
       "<pre>| 640              | 1.85s        | 13%              |</pre>"
      ],
      "text/plain": [
       "| 640              | 1.85s        | 13%              |"
      ]
     },
     "metadata": {},
     "output_type": "display_data"
    },
    {
     "data": {
      "text/html": [
       "<pre>| 1600             | 3.95s        | 32.75%           |</pre>"
      ],
      "text/plain": [
       "| 1600             | 3.95s        | 32.75%           |"
      ]
     },
     "metadata": {},
     "output_type": "display_data"
    },
    {
     "data": {
      "text/html": [
       "<pre>| 3200             | 7.41s        | 65.75%           |</pre>"
      ],
      "text/plain": [
       "| 3200             | 7.41s        | 65.75%           |"
      ]
     },
     "metadata": {},
     "output_type": "display_data"
    },
    {
     "data": {
      "text/html": [
       "<pre>| 4800             | 10.87s       | 98.5%            |</pre>"
      ],
      "text/plain": [
       "| 4800             | 10.87s       | 98.5%            |"
      ]
     },
     "metadata": {},
     "output_type": "display_data"
    },
    {
     "data": {
      "text/html": [
       "<pre>| 4838             | 11.02s       | 100%             |</pre>"
      ],
      "text/plain": [
       "| 4838             | 11.02s       | 100%             |"
      ]
     },
     "metadata": {},
     "output_type": "display_data"
    },
    {
     "data": {
      "text/html": [
       "<pre>+------------------+--------------+------------------+</pre>"
      ],
      "text/plain": [
       "+------------------+--------------+------------------+"
      ]
     },
     "metadata": {},
     "output_type": "display_data"
    },
    {
     "name": "stdout",
     "output_type": "stream",
     "text": [
      "PROGRESS: Creating a validation set from 5 percent of training data. This may take a while.\n",
      "          You can set ``validation_set=None`` to disable validation tracking.\n",
      "\n"
     ]
    },
    {
     "data": {
      "text/html": [
       "<pre>Logistic regression:</pre>"
      ],
      "text/plain": [
       "Logistic regression:"
      ]
     },
     "metadata": {},
     "output_type": "display_data"
    },
    {
     "data": {
      "text/html": [
       "<pre>--------------------------------------------------------</pre>"
      ],
      "text/plain": [
       "--------------------------------------------------------"
      ]
     },
     "metadata": {},
     "output_type": "display_data"
    },
    {
     "data": {
      "text/html": [
       "<pre>Number of examples          : 4596</pre>"
      ],
      "text/plain": [
       "Number of examples          : 4596"
      ]
     },
     "metadata": {},
     "output_type": "display_data"
    },
    {
     "data": {
      "text/html": [
       "<pre>Number of classes           : 20</pre>"
      ],
      "text/plain": [
       "Number of classes           : 20"
      ]
     },
     "metadata": {},
     "output_type": "display_data"
    },
    {
     "data": {
      "text/html": [
       "<pre>Number of feature columns   : 1</pre>"
      ],
      "text/plain": [
       "Number of feature columns   : 1"
      ]
     },
     "metadata": {},
     "output_type": "display_data"
    },
    {
     "data": {
      "text/html": [
       "<pre>Number of unpacked features : 1000</pre>"
      ],
      "text/plain": [
       "Number of unpacked features : 1000"
      ]
     },
     "metadata": {},
     "output_type": "display_data"
    },
    {
     "data": {
      "text/html": [
       "<pre>Number of coefficients      : 19019</pre>"
      ],
      "text/plain": [
       "Number of coefficients      : 19019"
      ]
     },
     "metadata": {},
     "output_type": "display_data"
    },
    {
     "data": {
      "text/html": [
       "<pre>Starting L-BFGS</pre>"
      ],
      "text/plain": [
       "Starting L-BFGS"
      ]
     },
     "metadata": {},
     "output_type": "display_data"
    },
    {
     "data": {
      "text/html": [
       "<pre>--------------------------------------------------------</pre>"
      ],
      "text/plain": [
       "--------------------------------------------------------"
      ]
     },
     "metadata": {},
     "output_type": "display_data"
    },
    {
     "data": {
      "text/html": [
       "<pre>+-----------+----------+-----------+--------------+-------------------+---------------------+</pre>"
      ],
      "text/plain": [
       "+-----------+----------+-----------+--------------+-------------------+---------------------+"
      ]
     },
     "metadata": {},
     "output_type": "display_data"
    },
    {
     "data": {
      "text/html": [
       "<pre>| Iteration | Passes   | Step size | Elapsed Time | Training Accuracy | Validation Accuracy |</pre>"
      ],
      "text/plain": [
       "| Iteration | Passes   | Step size | Elapsed Time | Training Accuracy | Validation Accuracy |"
      ]
     },
     "metadata": {},
     "output_type": "display_data"
    },
    {
     "data": {
      "text/html": [
       "<pre>+-----------+----------+-----------+--------------+-------------------+---------------------+</pre>"
      ],
      "text/plain": [
       "+-----------+----------+-----------+--------------+-------------------+---------------------+"
      ]
     },
     "metadata": {},
     "output_type": "display_data"
    },
    {
     "data": {
      "text/html": [
       "<pre>| 0         | 4        | 0.250000  | 0.332704     | 0.085509          | 0.078512            |</pre>"
      ],
      "text/plain": [
       "| 0         | 4        | 0.250000  | 0.332704     | 0.085509          | 0.078512            |"
      ]
     },
     "metadata": {},
     "output_type": "display_data"
    },
    {
     "data": {
      "text/html": [
       "<pre>| 1         | 7        | 1.250000  | 0.688568     | 0.304178          | 0.293388            |</pre>"
      ],
      "text/plain": [
       "| 1         | 7        | 1.250000  | 0.688568     | 0.304178          | 0.293388            |"
      ]
     },
     "metadata": {},
     "output_type": "display_data"
    },
    {
     "data": {
      "text/html": [
       "<pre>| 2         | 8        | 1.250000  | 0.873706     | 0.142950          | 0.119835            |</pre>"
      ],
      "text/plain": [
       "| 2         | 8        | 1.250000  | 0.873706     | 0.142950          | 0.119835            |"
      ]
     },
     "metadata": {},
     "output_type": "display_data"
    },
    {
     "data": {
      "text/html": [
       "<pre>| 3         | 9        | 1.250000  | 1.056690     | 0.300261          | 0.247934            |</pre>"
      ],
      "text/plain": [
       "| 3         | 9        | 1.250000  | 1.056690     | 0.300261          | 0.247934            |"
      ]
     },
     "metadata": {},
     "output_type": "display_data"
    },
    {
     "data": {
      "text/html": [
       "<pre>| 4         | 10       | 1.250000  | 1.255690     | 0.222802          | 0.194215            |</pre>"
      ],
      "text/plain": [
       "| 4         | 10       | 1.250000  | 1.255690     | 0.222802          | 0.194215            |"
      ]
     },
     "metadata": {},
     "output_type": "display_data"
    },
    {
     "data": {
      "text/html": [
       "<pre>| 9         | 16       | 1.000000  | 2.301169     | 0.446693          | 0.421488            |</pre>"
      ],
      "text/plain": [
       "| 9         | 16       | 1.000000  | 2.301169     | 0.446693          | 0.421488            |"
      ]
     },
     "metadata": {},
     "output_type": "display_data"
    },
    {
     "data": {
      "text/html": [
       "<pre>| 24        | 36       | 1.000000  | 6.129805     | 0.602045          | 0.590909            |</pre>"
      ],
      "text/plain": [
       "| 24        | 36       | 1.000000  | 6.129805     | 0.602045          | 0.590909            |"
      ]
     },
     "metadata": {},
     "output_type": "display_data"
    },
    {
     "data": {
      "text/html": [
       "<pre>| 49        | 77       | 1.118439  | 12.917828    | 0.698869          | 0.628099            |</pre>"
      ],
      "text/plain": [
       "| 49        | 77       | 1.118439  | 12.917828    | 0.698869          | 0.628099            |"
      ]
     },
     "metadata": {},
     "output_type": "display_data"
    },
    {
     "data": {
      "text/html": [
       "<pre>| 74        | 111      | 1.000000  | 19.159802    | 0.747171          | 0.673554            |</pre>"
      ],
      "text/plain": [
       "| 74        | 111      | 1.000000  | 19.159802    | 0.747171          | 0.673554            |"
      ]
     },
     "metadata": {},
     "output_type": "display_data"
    },
    {
     "data": {
      "text/html": [
       "<pre>| 99        | 143      | 1.000000  | 25.300251    | 0.795257          | 0.673554            |</pre>"
      ],
      "text/plain": [
       "| 99        | 143      | 1.000000  | 25.300251    | 0.795257          | 0.673554            |"
      ]
     },
     "metadata": {},
     "output_type": "display_data"
    },
    {
     "data": {
      "text/html": [
       "<pre>+-----------+----------+-----------+--------------+-------------------+---------------------+</pre>"
      ],
      "text/plain": [
       "+-----------+----------+-----------+--------------+-------------------+---------------------+"
      ]
     },
     "metadata": {},
     "output_type": "display_data"
    }
   ],
   "source": [
    "# Train the image classifier\n",
    "model = tc.image_classifier.create(train_data, target=\"label\", \n",
    "                                   model=\"squeezenet_v1.1\",\n",
    "                                   verbose=True, max_iterations=100)"
   ]
  },
  {
   "cell_type": "code",
   "execution_count": 4,
   "metadata": {},
   "outputs": [],
   "source": [
    "# OR load MultiSnacks.model from current folder\n",
    "model = tc.load_model(\"MultiSnacks.model\")"
   ]
  },
  {
   "cell_type": "code",
   "execution_count": 6,
   "metadata": {},
   "outputs": [
    {
     "data": {
      "text/plain": [
       "Class                          : LogisticClassifier\n",
       "\n",
       "Schema\n",
       "------\n",
       "Number of coefficients         : 19019\n",
       "Number of examples             : 4596\n",
       "Number of classes              : 20\n",
       "Number of feature columns      : 1\n",
       "Number of unpacked features    : 1000\n",
       "\n",
       "Hyperparameters\n",
       "---------------\n",
       "L1 penalty                     : 0.0\n",
       "L2 penalty                     : 0.01\n",
       "\n",
       "Training Summary\n",
       "----------------\n",
       "Solver                         : lbfgs\n",
       "Solver iterations              : 100\n",
       "Solver status                  : Completed (Iteration limit reached).\n",
       "Training time (sec)            : 12.5499\n",
       "\n",
       "Settings\n",
       "--------\n",
       "Log-likelihood                 : 3041.3158\n",
       "\n",
       "Highest Positive Coefficients\n",
       "-----------------------------\n",
       "(intercept)                    : 0.3017\n",
       "(intercept)                    : 0.2495\n",
       "(intercept)                    : 0.1129\n",
       "__image_features__[839]        : 0.111\n",
       "__image_features__[271]        : 0.0995\n",
       "\n",
       "Lowest Negative Coefficients\n",
       "----------------------------\n",
       "(intercept)                    : -0.24\n",
       "(intercept)                    : -0.2174\n",
       "(intercept)                    : -0.2048\n",
       "(intercept)                    : -0.1933\n",
       "(intercept)                    : -0.1279"
      ]
     },
     "execution_count": 6,
     "metadata": {},
     "output_type": "execute_result"
    }
   ],
   "source": [
    "model.classifier"
   ]
  },
  {
   "cell_type": "markdown",
   "metadata": {},
   "source": [
    "Continue with trained or loaded model."
   ]
  },
  {
   "cell_type": "code",
   "execution_count": 7,
   "metadata": {},
   "outputs": [
    {
     "data": {
      "text/html": [
       "<pre>Analyzing and extracting image features.</pre>"
      ],
      "text/plain": [
       "Analyzing and extracting image features."
      ]
     },
     "metadata": {},
     "output_type": "display_data"
    },
    {
     "data": {
      "text/html": [
       "<pre>+------------------+--------------+------------------+</pre>"
      ],
      "text/plain": [
       "+------------------+--------------+------------------+"
      ]
     },
     "metadata": {},
     "output_type": "display_data"
    },
    {
     "data": {
      "text/html": [
       "<pre>| Images Processed | Elapsed Time | Percent Complete |</pre>"
      ],
      "text/plain": [
       "| Images Processed | Elapsed Time | Percent Complete |"
      ]
     },
     "metadata": {},
     "output_type": "display_data"
    },
    {
     "data": {
      "text/html": [
       "<pre>+------------------+--------------+------------------+</pre>"
      ],
      "text/plain": [
       "+------------------+--------------+------------------+"
      ]
     },
     "metadata": {},
     "output_type": "display_data"
    },
    {
     "data": {
      "text/html": [
       "<pre>| 64               | 475.726ms    | 6.5%             |</pre>"
      ],
      "text/plain": [
       "| 64               | 475.726ms    | 6.5%             |"
      ]
     },
     "metadata": {},
     "output_type": "display_data"
    },
    {
     "data": {
      "text/html": [
       "<pre>| 128              | 615.557ms    | 13.25%           |</pre>"
      ],
      "text/plain": [
       "| 128              | 615.557ms    | 13.25%           |"
      ]
     },
     "metadata": {},
     "output_type": "display_data"
    },
    {
     "data": {
      "text/html": [
       "<pre>| 192              | 756.274ms    | 20%              |</pre>"
      ],
      "text/plain": [
       "| 192              | 756.274ms    | 20%              |"
      ]
     },
     "metadata": {},
     "output_type": "display_data"
    },
    {
     "data": {
      "text/html": [
       "<pre>| 256              | 895.81ms     | 26.5%            |</pre>"
      ],
      "text/plain": [
       "| 256              | 895.81ms     | 26.5%            |"
      ]
     },
     "metadata": {},
     "output_type": "display_data"
    },
    {
     "data": {
      "text/html": [
       "<pre>| 320              | 1.03s        | 33.25%           |</pre>"
      ],
      "text/plain": [
       "| 320              | 1.03s        | 33.25%           |"
      ]
     },
     "metadata": {},
     "output_type": "display_data"
    },
    {
     "data": {
      "text/html": [
       "<pre>| 640              | 1.73s        | 66.5%            |</pre>"
      ],
      "text/plain": [
       "| 640              | 1.73s        | 66.5%            |"
      ]
     },
     "metadata": {},
     "output_type": "display_data"
    },
    {
     "data": {
      "text/html": [
       "<pre>| 952              | 2.41s        | 100%             |</pre>"
      ],
      "text/plain": [
       "| 952              | 2.41s        | 100%             |"
      ]
     },
     "metadata": {},
     "output_type": "display_data"
    },
    {
     "data": {
      "text/html": [
       "<pre>+------------------+--------------+------------------+</pre>"
      ],
      "text/plain": [
       "+------------------+--------------+------------------+"
      ]
     },
     "metadata": {},
     "output_type": "display_data"
    },
    {
     "name": "stdout",
     "output_type": "stream",
     "text": [
      "Accuracy:  0.6439075630252101\n",
      "Precision:  0.6417490793302572\n",
      "Recall:  0.6431947278911565\n"
     ]
    }
   ],
   "source": [
    "metrics = model.evaluate(test_data)\n",
    "print(\"Accuracy: \", metrics[\"accuracy\"])\n",
    "print(\"Precision: \", metrics[\"precision\"])\n",
    "print(\"Recall: \", metrics[\"recall\"])"
   ]
  },
  {
   "cell_type": "markdown",
   "metadata": {},
   "source": [
    "## Getting individual predictions"
   ]
  },
  {
   "cell_type": "code",
   "execution_count": 8,
   "metadata": {},
   "outputs": [
    {
     "data": {
      "text/plain": [
       "dtype: str\n",
       "Rows: 952\n",
       "['juice', 'grape', 'orange', 'orange', 'orange', 'apple', 'orange', 'apple', 'watermelon', 'apple', 'apple', 'apple', 'strawberry', 'apple', 'apple', 'carrot', 'candy', 'ice cream', 'apple', 'apple', 'apple', 'apple', 'apple', 'apple', 'apple', 'pineapple', 'orange', 'apple', 'apple', 'apple', 'doughnut', 'grape', 'apple', 'apple', 'orange', 'grape', 'apple', 'orange', 'apple', 'grape', 'apple', 'apple', 'apple', 'strawberry', 'orange', 'juice', 'apple', 'watermelon', 'apple', 'apple', 'banana', 'banana', 'pineapple', 'watermelon', 'banana', 'banana', 'hot dog', 'banana', 'banana', 'banana', 'banana', 'banana', 'banana', 'banana', 'banana', 'banana', 'hot dog', 'banana', 'banana', 'banana', 'banana', 'muffin', 'banana', 'banana', 'banana', 'banana', 'banana', 'banana', 'juice', 'watermelon', 'hot dog', 'banana', 'pretzel', 'banana', 'banana', 'banana', 'banana', 'banana', 'banana', 'banana', 'banana', 'apple', 'banana', 'banana', 'cookie', 'banana', 'orange', 'banana', 'banana', 'banana', ... ]"
      ]
     },
     "execution_count": 8,
     "metadata": {},
     "output_type": "execute_result"
    }
   ],
   "source": [
    "model.predict(test_data)"
   ]
  },
  {
   "cell_type": "code",
   "execution_count": 9,
   "metadata": {},
   "outputs": [
    {
     "data": {
      "text/plain": [
       "<matplotlib.image.AxesImage at 0xa3338fb70>"
      ]
     },
     "execution_count": 9,
     "metadata": {},
     "output_type": "execute_result"
    },
    {
     "data": {
      "image/png": "[encoded data removed]",
      "text/plain": [
       "<Figure size 432x288 with 1 Axes>"
      ]
     },
     "metadata": {
      "needs_background": "light"
     },
     "output_type": "display_data"
    }
   ],
   "source": [
    "plt.imshow(test_data[1][\"image\"].pixel_data)"
   ]
  },
  {
   "cell_type": "code",
   "execution_count": 10,
   "metadata": {},
   "outputs": [
    {
     "data": {
      "text/html": [
       "<div style=\"max-height:1000px;max-width:1500px;overflow:auto;\"><table frame=\"box\" rules=\"cols\">\n",
       "    <tr>\n",
       "        <th style=\"padding-left: 1em; padding-right: 1em; text-align: center\">class</th>\n",
       "        <th style=\"padding-left: 1em; padding-right: 1em; text-align: center\">probability</th>\n",
       "    </tr>\n",
       "    <tr>\n",
       "        <td style=\"padding-left: 1em; padding-right: 1em; text-align: center; vertical-align: top\">juice</td>\n",
       "        <td style=\"padding-left: 1em; padding-right: 1em; text-align: center; vertical-align: top\">0.310875650141583</td>\n",
       "    </tr>\n",
       "    <tr>\n",
       "        <td style=\"padding-left: 1em; padding-right: 1em; text-align: center; vertical-align: top\">grape</td>\n",
       "        <td style=\"padding-left: 1em; padding-right: 1em; text-align: center; vertical-align: top\">0.3956502013612714</td>\n",
       "    </tr>\n",
       "    <tr>\n",
       "        <td style=\"padding-left: 1em; padding-right: 1em; text-align: center; vertical-align: top\">orange</td>\n",
       "        <td style=\"padding-left: 1em; padding-right: 1em; text-align: center; vertical-align: top\">0.39538090296648265</td>\n",
       "    </tr>\n",
       "    <tr>\n",
       "        <td style=\"padding-left: 1em; padding-right: 1em; text-align: center; vertical-align: top\">orange</td>\n",
       "        <td style=\"padding-left: 1em; padding-right: 1em; text-align: center; vertical-align: top\">0.8976618147216178</td>\n",
       "    </tr>\n",
       "    <tr>\n",
       "        <td style=\"padding-left: 1em; padding-right: 1em; text-align: center; vertical-align: top\">orange</td>\n",
       "        <td style=\"padding-left: 1em; padding-right: 1em; text-align: center; vertical-align: top\">0.3072119182057209</td>\n",
       "    </tr>\n",
       "    <tr>\n",
       "        <td style=\"padding-left: 1em; padding-right: 1em; text-align: center; vertical-align: top\">apple</td>\n",
       "        <td style=\"padding-left: 1em; padding-right: 1em; text-align: center; vertical-align: top\">0.9799928015960225</td>\n",
       "    </tr>\n",
       "    <tr>\n",
       "        <td style=\"padding-left: 1em; padding-right: 1em; text-align: center; vertical-align: top\">orange</td>\n",
       "        <td style=\"padding-left: 1em; padding-right: 1em; text-align: center; vertical-align: top\">0.3865466153652425</td>\n",
       "    </tr>\n",
       "    <tr>\n",
       "        <td style=\"padding-left: 1em; padding-right: 1em; text-align: center; vertical-align: top\">apple</td>\n",
       "        <td style=\"padding-left: 1em; padding-right: 1em; text-align: center; vertical-align: top\">0.42822296621018285</td>\n",
       "    </tr>\n",
       "    <tr>\n",
       "        <td style=\"padding-left: 1em; padding-right: 1em; text-align: center; vertical-align: top\">watermelon</td>\n",
       "        <td style=\"padding-left: 1em; padding-right: 1em; text-align: center; vertical-align: top\">0.749243879680526</td>\n",
       "    </tr>\n",
       "    <tr>\n",
       "        <td style=\"padding-left: 1em; padding-right: 1em; text-align: center; vertical-align: top\">apple</td>\n",
       "        <td style=\"padding-left: 1em; padding-right: 1em; text-align: center; vertical-align: top\">0.9083423391632507</td>\n",
       "    </tr>\n",
       "</table>\n",
       "[952 rows x 2 columns]<br/>Note: Only the head of the SFrame is printed.<br/>You can use print_rows(num_rows=m, num_columns=n) to print more rows and columns.\n",
       "</div>"
      ],
      "text/plain": [
       "Columns:\n",
       "\tclass\tstr\n",
       "\tprobability\tfloat\n",
       "\n",
       "Rows: 952\n",
       "\n",
       "Data:\n",
       "+------------+---------------------+\n",
       "|   class    |     probability     |\n",
       "+------------+---------------------+\n",
       "|   juice    |  0.310875650141583  |\n",
       "|   grape    |  0.3956502013612714 |\n",
       "|   orange   | 0.39538090296648265 |\n",
       "|   orange   |  0.8976618147216178 |\n",
       "|   orange   |  0.3072119182057209 |\n",
       "|   apple    |  0.9799928015960225 |\n",
       "|   orange   |  0.3865466153652425 |\n",
       "|   apple    | 0.42822296621018285 |\n",
       "| watermelon |  0.749243879680526  |\n",
       "|   apple    |  0.9083423391632507 |\n",
       "+------------+---------------------+\n",
       "[952 rows x 2 columns]\n",
       "Note: Only the head of the SFrame is printed.\n",
       "You can use print_rows(num_rows=m, num_columns=n) to print more rows and columns."
      ]
     },
     "execution_count": 10,
     "metadata": {},
     "output_type": "execute_result"
    }
   ],
   "source": [
    "output = model.classify(test_data)\n",
    "output"
   ]
  },
  {
   "cell_type": "code",
   "execution_count": 11,
   "metadata": {},
   "outputs": [
    {
     "data": {
      "text/html": [
       "<pre>Materializing SFrame</pre>"
      ],
      "text/plain": [
       "Materializing SFrame"
      ]
     },
     "metadata": {},
     "output_type": "display_data"
    }
   ],
   "source": [
    "imgs_with_pred = test_data.add_columns(output)\n",
    "imgs_with_pred.explore()"
   ]
  },
  {
   "cell_type": "code",
   "execution_count": 12,
   "metadata": {},
   "outputs": [
    {
     "data": {
      "text/html": [
       "<pre>Materializing SFrame</pre>"
      ],
      "text/plain": [
       "Materializing SFrame"
      ]
     },
     "metadata": {},
     "output_type": "display_data"
    }
   ],
   "source": [
    "imgs_filtered = imgs_with_pred[(imgs_with_pred[\"probability\"] > 0.9) & \n",
    "                 (imgs_with_pred[\"label\"] != imgs_with_pred[\"class\"] )]\n",
    "imgs_filtered.explore()"
   ]
  },
  {
   "cell_type": "markdown",
   "metadata": {},
   "source": [
    "### Sorting the prediction probabilities"
   ]
  },
  {
   "cell_type": "code",
   "execution_count": 13,
   "metadata": {},
   "outputs": [
    {
     "name": "stdout",
     "output_type": "stream",
     "text": [
      "Probabilities for 2nd image array('d', [0.28649353163077507, 0.021471646172138575, 2.4843442664000567e-05, 0.01931615155262629, 0.002893942228880033, 0.0032271662456519307, 6.111104463256687e-05, 0.3956502013612714, 9.315914880779299e-06, 3.913784313916669e-05, 2.549320086039512e-05, 1.00155513934948e-06, 0.2687142431076742, 0.0006883357597396455, 4.887305155387977e-05, 7.929739031400189e-08, 0.0005855183116902022, 6.897952527586654e-05, 9.250795546818723e-07, 0.0006795036744617884])\n"
     ]
    }
   ],
   "source": [
    "predictions = model.predict(test_data, output_type=\"probability_vector\")\n",
    "print(\"Probabilities for 2nd image\", predictions[1])"
   ]
  },
  {
   "cell_type": "code",
   "execution_count": 14,
   "metadata": {},
   "outputs": [
    {
     "data": {
      "text/html": [
       "<div style=\"max-height:1000px;max-width:1500px;overflow:auto;\"><table frame=\"box\" rules=\"cols\">\n",
       "    <tr>\n",
       "        <th style=\"padding-left: 1em; padding-right: 1em; text-align: center\">labels</th>\n",
       "        <th style=\"padding-left: 1em; padding-right: 1em; text-align: center\">preds</th>\n",
       "    </tr>\n",
       "    <tr>\n",
       "        <td style=\"padding-left: 1em; padding-right: 1em; text-align: center; vertical-align: top\">grape</td>\n",
       "        <td style=\"padding-left: 1em; padding-right: 1em; text-align: center; vertical-align: top\">0.3956502013612714</td>\n",
       "    </tr>\n",
       "    <tr>\n",
       "        <td style=\"padding-left: 1em; padding-right: 1em; text-align: center; vertical-align: top\">apple</td>\n",
       "        <td style=\"padding-left: 1em; padding-right: 1em; text-align: center; vertical-align: top\">0.28649353163077507</td>\n",
       "    </tr>\n",
       "    <tr>\n",
       "        <td style=\"padding-left: 1em; padding-right: 1em; text-align: center; vertical-align: top\">orange</td>\n",
       "        <td style=\"padding-left: 1em; padding-right: 1em; text-align: center; vertical-align: top\">0.2687142431076742</td>\n",
       "    </tr>\n",
       "    <tr>\n",
       "        <td style=\"padding-left: 1em; padding-right: 1em; text-align: center; vertical-align: top\">banana</td>\n",
       "        <td style=\"padding-left: 1em; padding-right: 1em; text-align: center; vertical-align: top\">0.021471646172138575</td>\n",
       "    </tr>\n",
       "    <tr>\n",
       "        <td style=\"padding-left: 1em; padding-right: 1em; text-align: center; vertical-align: top\">candy</td>\n",
       "        <td style=\"padding-left: 1em; padding-right: 1em; text-align: center; vertical-align: top\">0.01931615155262629</td>\n",
       "    </tr>\n",
       "    <tr>\n",
       "        <td style=\"padding-left: 1em; padding-right: 1em; text-align: center; vertical-align: top\">cookie</td>\n",
       "        <td style=\"padding-left: 1em; padding-right: 1em; text-align: center; vertical-align: top\">0.0032271662456519307</td>\n",
       "    </tr>\n",
       "    <tr>\n",
       "        <td style=\"padding-left: 1em; padding-right: 1em; text-align: center; vertical-align: top\">carrot</td>\n",
       "        <td style=\"padding-left: 1em; padding-right: 1em; text-align: center; vertical-align: top\">0.002893942228880033</td>\n",
       "    </tr>\n",
       "    <tr>\n",
       "        <td style=\"padding-left: 1em; padding-right: 1em; text-align: center; vertical-align: top\">pineapple</td>\n",
       "        <td style=\"padding-left: 1em; padding-right: 1em; text-align: center; vertical-align: top\">0.0006883357597396455</td>\n",
       "    </tr>\n",
       "    <tr>\n",
       "        <td style=\"padding-left: 1em; padding-right: 1em; text-align: center; vertical-align: top\">watermelon</td>\n",
       "        <td style=\"padding-left: 1em; padding-right: 1em; text-align: center; vertical-align: top\">0.0006795036744617884</td>\n",
       "    </tr>\n",
       "    <tr>\n",
       "        <td style=\"padding-left: 1em; padding-right: 1em; text-align: center; vertical-align: top\">salad</td>\n",
       "        <td style=\"padding-left: 1em; padding-right: 1em; text-align: center; vertical-align: top\">0.0005855183116902022</td>\n",
       "    </tr>\n",
       "</table>\n",
       "[20 rows x 2 columns]<br/>Note: Only the head of the SFrame is printed.<br/>You can use print_rows(num_rows=m, num_columns=n) to print more rows and columns.\n",
       "</div>"
      ],
      "text/plain": [
       "Columns:\n",
       "\tlabels\tstr\n",
       "\tpreds\tfloat\n",
       "\n",
       "Rows: 20\n",
       "\n",
       "Data:\n",
       "+------------+-----------------------+\n",
       "|   labels   |         preds         |\n",
       "+------------+-----------------------+\n",
       "|   grape    |   0.3956502013612714  |\n",
       "|   apple    |  0.28649353163077507  |\n",
       "|   orange   |   0.2687142431076742  |\n",
       "|   banana   |  0.021471646172138575 |\n",
       "|   candy    |  0.01931615155262629  |\n",
       "|   cookie   | 0.0032271662456519307 |\n",
       "|   carrot   |  0.002893942228880033 |\n",
       "| pineapple  | 0.0006883357597396455 |\n",
       "| watermelon | 0.0006795036744617884 |\n",
       "|   salad    | 0.0005855183116902022 |\n",
       "+------------+-----------------------+\n",
       "[20 rows x 2 columns]\n",
       "Note: Only the head of the SFrame is printed.\n",
       "You can use print_rows(num_rows=m, num_columns=n) to print more rows and columns."
      ]
     },
     "execution_count": 14,
     "metadata": {},
     "output_type": "execute_result"
    }
   ],
   "source": [
    "labels = test_data[\"label\"].unique().sort()\n",
    "preds = tc.SArray(predictions[1])\n",
    "tc.SFrame({\"preds\": preds, \"labels\": labels}).sort([(\"preds\", False)])"
   ]
  },
  {
   "cell_type": "markdown",
   "metadata": {},
   "source": [
    "## Using a fixed validation dataset"
   ]
  },
  {
   "cell_type": "code",
   "execution_count": 15,
   "metadata": {},
   "outputs": [
    {
     "data": {
      "text/plain": [
       "955"
      ]
     },
     "execution_count": 15,
     "metadata": {},
     "output_type": "execute_result"
    }
   ],
   "source": [
    "val_data = tc.image_analysis.load_images(\"snacks/val\", with_path=True)\n",
    "val_data[\"label\"] = val_data[\"path\"].apply(lambda path: \n",
    "      os.path.basename(os.path.split(path)[0]))\n",
    "len(val_data)"
   ]
  },
  {
   "cell_type": "markdown",
   "metadata": {},
   "source": [
    "## Increasing max iterations"
   ]
  },
  {
   "cell_type": "markdown",
   "metadata": {},
   "source": [
    "Run the next cell to load the model from the current folder.\n",
    "\n",
    "**OR**\n",
    "\n",
    "Run the two cells **after** the next cell, to train and save the model. "
   ]
  },
  {
   "cell_type": "code",
   "execution_count": 14,
   "metadata": {},
   "outputs": [],
   "source": [
    "# Load MultiSnacks_200.model from the current folder\n",
    "model = tc.load_model(\"MultiSnacks_200.model\")"
   ]
  },
  {
   "cell_type": "code",
   "execution_count": 16,
   "metadata": {},
   "outputs": [
    {
     "data": {
      "text/html": [
       "<pre>Analyzing and extracting image features.</pre>"
      ],
      "text/plain": [
       "Analyzing and extracting image features."
      ]
     },
     "metadata": {},
     "output_type": "display_data"
    },
    {
     "data": {
      "text/html": [
       "<pre>+------------------+--------------+------------------+</pre>"
      ],
      "text/plain": [
       "+------------------+--------------+------------------+"
      ]
     },
     "metadata": {},
     "output_type": "display_data"
    },
    {
     "data": {
      "text/html": [
       "<pre>| Images Processed | Elapsed Time | Percent Complete |</pre>"
      ],
      "text/plain": [
       "| Images Processed | Elapsed Time | Percent Complete |"
      ]
     },
     "metadata": {},
     "output_type": "display_data"
    },
    {
     "data": {
      "text/html": [
       "<pre>+------------------+--------------+------------------+</pre>"
      ],
      "text/plain": [
       "+------------------+--------------+------------------+"
      ]
     },
     "metadata": {},
     "output_type": "display_data"
    },
    {
     "data": {
      "text/html": [
       "<pre>| 64               | 490.089ms    | 1.25%            |</pre>"
      ],
      "text/plain": [
       "| 64               | 490.089ms    | 1.25%            |"
      ]
     },
     "metadata": {},
     "output_type": "display_data"
    },
    {
     "data": {
      "text/html": [
       "<pre>| 128              | 630.4ms      | 2.5%             |</pre>"
      ],
      "text/plain": [
       "| 128              | 630.4ms      | 2.5%             |"
      ]
     },
     "metadata": {},
     "output_type": "display_data"
    },
    {
     "data": {
      "text/html": [
       "<pre>| 192              | 769.774ms    | 3.75%            |</pre>"
      ],
      "text/plain": [
       "| 192              | 769.774ms    | 3.75%            |"
      ]
     },
     "metadata": {},
     "output_type": "display_data"
    },
    {
     "data": {
      "text/html": [
       "<pre>| 256              | 909.68ms     | 5.25%            |</pre>"
      ],
      "text/plain": [
       "| 256              | 909.68ms     | 5.25%            |"
      ]
     },
     "metadata": {},
     "output_type": "display_data"
    },
    {
     "data": {
      "text/html": [
       "<pre>| 320              | 1.04s        | 6.5%             |</pre>"
      ],
      "text/plain": [
       "| 320              | 1.04s        | 6.5%             |"
      ]
     },
     "metadata": {},
     "output_type": "display_data"
    },
    {
     "data": {
      "text/html": [
       "<pre>| 640              | 1.74s        | 13%              |</pre>"
      ],
      "text/plain": [
       "| 640              | 1.74s        | 13%              |"
      ]
     },
     "metadata": {},
     "output_type": "display_data"
    },
    {
     "data": {
      "text/html": [
       "<pre>| 1600             | 3.84s        | 32.75%           |</pre>"
      ],
      "text/plain": [
       "| 1600             | 3.84s        | 32.75%           |"
      ]
     },
     "metadata": {},
     "output_type": "display_data"
    },
    {
     "data": {
      "text/html": [
       "<pre>| 3200             | 7.32s        | 65.75%           |</pre>"
      ],
      "text/plain": [
       "| 3200             | 7.32s        | 65.75%           |"
      ]
     },
     "metadata": {},
     "output_type": "display_data"
    },
    {
     "data": {
      "text/html": [
       "<pre>| 4800             | 10.86s       | 98.5%            |</pre>"
      ],
      "text/plain": [
       "| 4800             | 10.86s       | 98.5%            |"
      ]
     },
     "metadata": {},
     "output_type": "display_data"
    },
    {
     "data": {
      "text/html": [
       "<pre>| 4838             | 10.94s       | 100%             |</pre>"
      ],
      "text/plain": [
       "| 4838             | 10.94s       | 100%             |"
      ]
     },
     "metadata": {},
     "output_type": "display_data"
    },
    {
     "data": {
      "text/html": [
       "<pre>+------------------+--------------+------------------+</pre>"
      ],
      "text/plain": [
       "+------------------+--------------+------------------+"
      ]
     },
     "metadata": {},
     "output_type": "display_data"
    },
    {
     "data": {
      "text/html": [
       "<pre>Analyzing and extracting image features.</pre>"
      ],
      "text/plain": [
       "Analyzing and extracting image features."
      ]
     },
     "metadata": {},
     "output_type": "display_data"
    },
    {
     "data": {
      "text/html": [
       "<pre>+------------------+--------------+------------------+</pre>"
      ],
      "text/plain": [
       "+------------------+--------------+------------------+"
      ]
     },
     "metadata": {},
     "output_type": "display_data"
    },
    {
     "data": {
      "text/html": [
       "<pre>| Images Processed | Elapsed Time | Percent Complete |</pre>"
      ],
      "text/plain": [
       "| Images Processed | Elapsed Time | Percent Complete |"
      ]
     },
     "metadata": {},
     "output_type": "display_data"
    },
    {
     "data": {
      "text/html": [
       "<pre>+------------------+--------------+------------------+</pre>"
      ],
      "text/plain": [
       "+------------------+--------------+------------------+"
      ]
     },
     "metadata": {},
     "output_type": "display_data"
    },
    {
     "data": {
      "text/html": [
       "<pre>| 64               | 560.438ms    | 6.5%             |</pre>"
      ],
      "text/plain": [
       "| 64               | 560.438ms    | 6.5%             |"
      ]
     },
     "metadata": {},
     "output_type": "display_data"
    },
    {
     "data": {
      "text/html": [
       "<pre>| 128              | 700.01ms     | 13.25%           |</pre>"
      ],
      "text/plain": [
       "| 128              | 700.01ms     | 13.25%           |"
      ]
     },
     "metadata": {},
     "output_type": "display_data"
    },
    {
     "data": {
      "text/html": [
       "<pre>| 192              | 851.477ms    | 20%              |</pre>"
      ],
      "text/plain": [
       "| 192              | 851.477ms    | 20%              |"
      ]
     },
     "metadata": {},
     "output_type": "display_data"
    },
    {
     "data": {
      "text/html": [
       "<pre>| 320              | 1.12s        | 33.25%           |</pre>"
      ],
      "text/plain": [
       "| 320              | 1.12s        | 33.25%           |"
      ]
     },
     "metadata": {},
     "output_type": "display_data"
    },
    {
     "data": {
      "text/html": [
       "<pre>| 640              | 1.81s        | 66.5%            |</pre>"
      ],
      "text/plain": [
       "| 640              | 1.81s        | 66.5%            |"
      ]
     },
     "metadata": {},
     "output_type": "display_data"
    },
    {
     "data": {
      "text/html": [
       "<pre>| 955              | 2.54s        | 100%             |</pre>"
      ],
      "text/plain": [
       "| 955              | 2.54s        | 100%             |"
      ]
     },
     "metadata": {},
     "output_type": "display_data"
    },
    {
     "data": {
      "text/html": [
       "<pre>+------------------+--------------+------------------+</pre>"
      ],
      "text/plain": [
       "+------------------+--------------+------------------+"
      ]
     },
     "metadata": {},
     "output_type": "display_data"
    },
    {
     "data": {
      "text/html": [
       "<pre>Logistic regression:</pre>"
      ],
      "text/plain": [
       "Logistic regression:"
      ]
     },
     "metadata": {},
     "output_type": "display_data"
    },
    {
     "data": {
      "text/html": [
       "<pre>--------------------------------------------------------</pre>"
      ],
      "text/plain": [
       "--------------------------------------------------------"
      ]
     },
     "metadata": {},
     "output_type": "display_data"
    },
    {
     "data": {
      "text/html": [
       "<pre>Number of examples          : 4838</pre>"
      ],
      "text/plain": [
       "Number of examples          : 4838"
      ]
     },
     "metadata": {},
     "output_type": "display_data"
    },
    {
     "data": {
      "text/html": [
       "<pre>Number of classes           : 20</pre>"
      ],
      "text/plain": [
       "Number of classes           : 20"
      ]
     },
     "metadata": {},
     "output_type": "display_data"
    },
    {
     "data": {
      "text/html": [
       "<pre>Number of feature columns   : 1</pre>"
      ],
      "text/plain": [
       "Number of feature columns   : 1"
      ]
     },
     "metadata": {},
     "output_type": "display_data"
    },
    {
     "data": {
      "text/html": [
       "<pre>Number of unpacked features : 1000</pre>"
      ],
      "text/plain": [
       "Number of unpacked features : 1000"
      ]
     },
     "metadata": {},
     "output_type": "display_data"
    },
    {
     "data": {
      "text/html": [
       "<pre>Number of coefficients      : 19019</pre>"
      ],
      "text/plain": [
       "Number of coefficients      : 19019"
      ]
     },
     "metadata": {},
     "output_type": "display_data"
    },
    {
     "data": {
      "text/html": [
       "<pre>Starting L-BFGS</pre>"
      ],
      "text/plain": [
       "Starting L-BFGS"
      ]
     },
     "metadata": {},
     "output_type": "display_data"
    },
    {
     "data": {
      "text/html": [
       "<pre>--------------------------------------------------------</pre>"
      ],
      "text/plain": [
       "--------------------------------------------------------"
      ]
     },
     "metadata": {},
     "output_type": "display_data"
    },
    {
     "data": {
      "text/html": [
       "<pre>+-----------+----------+-----------+--------------+-------------------+---------------------+</pre>"
      ],
      "text/plain": [
       "+-----------+----------+-----------+--------------+-------------------+---------------------+"
      ]
     },
     "metadata": {},
     "output_type": "display_data"
    },
    {
     "data": {
      "text/html": [
       "<pre>| Iteration | Passes   | Step size | Elapsed Time | Training Accuracy | Validation Accuracy |</pre>"
      ],
      "text/plain": [
       "| Iteration | Passes   | Step size | Elapsed Time | Training Accuracy | Validation Accuracy |"
      ]
     },
     "metadata": {},
     "output_type": "display_data"
    },
    {
     "data": {
      "text/html": [
       "<pre>+-----------+----------+-----------+--------------+-------------------+---------------------+</pre>"
      ],
      "text/plain": [
       "+-----------+----------+-----------+--------------+-------------------+---------------------+"
      ]
     },
     "metadata": {},
     "output_type": "display_data"
    },
    {
     "data": {
      "text/html": [
       "<pre>| 0         | 4        | 0.250000  | 0.374372     | 0.078338          | 0.070157            |</pre>"
      ],
      "text/plain": [
       "| 0         | 4        | 0.250000  | 0.374372     | 0.078338          | 0.070157            |"
      ]
     },
     "metadata": {},
     "output_type": "display_data"
    },
    {
     "data": {
      "text/html": [
       "<pre>| 1         | 7        | 1.250000  | 0.779622     | 0.294750          | 0.273298            |</pre>"
      ],
      "text/plain": [
       "| 1         | 7        | 1.250000  | 0.779622     | 0.294750          | 0.273298            |"
      ]
     },
     "metadata": {},
     "output_type": "display_data"
    },
    {
     "data": {
      "text/html": [
       "<pre>| 2         | 8        | 1.250000  | 1.029926     | 0.139107          | 0.150785            |</pre>"
      ],
      "text/plain": [
       "| 2         | 8        | 1.250000  | 1.029926     | 0.139107          | 0.150785            |"
      ]
     },
     "metadata": {},
     "output_type": "display_data"
    },
    {
     "data": {
      "text/html": [
       "<pre>| 3         | 9        | 1.250000  | 1.256821     | 0.272013          | 0.268063            |</pre>"
      ],
      "text/plain": [
       "| 3         | 9        | 1.250000  | 1.256821     | 0.272013          | 0.268063            |"
      ]
     },
     "metadata": {},
     "output_type": "display_data"
    },
    {
     "data": {
      "text/html": [
       "<pre>| 4         | 10       | 1.250000  | 1.480616     | 0.241835          | 0.213613            |</pre>"
      ],
      "text/plain": [
       "| 4         | 10       | 1.250000  | 1.480616     | 0.241835          | 0.213613            |"
      ]
     },
     "metadata": {},
     "output_type": "display_data"
    },
    {
     "data": {
      "text/html": [
       "<pre>| 9         | 17       | 1.000000  | 2.882637     | 0.446465          | 0.406283            |</pre>"
      ],
      "text/plain": [
       "| 9         | 17       | 1.000000  | 2.882637     | 0.446465          | 0.406283            |"
      ]
     },
     "metadata": {},
     "output_type": "display_data"
    },
    {
     "data": {
      "text/html": [
       "<pre>| 24        | 34       | 1.000000  | 6.560546     | 0.602315          | 0.549738            |</pre>"
      ],
      "text/plain": [
       "| 24        | 34       | 1.000000  | 6.560546     | 0.602315          | 0.549738            |"
      ]
     },
     "metadata": {},
     "output_type": "display_data"
    },
    {
     "data": {
      "text/html": [
       "<pre>| 49        | 66       | 1.000000  | 13.194098    | 0.705043          | 0.608377            |</pre>"
      ],
      "text/plain": [
       "| 49        | 66       | 1.000000  | 13.194098    | 0.705043          | 0.608377            |"
      ]
     },
     "metadata": {},
     "output_type": "display_data"
    },
    {
     "data": {
      "text/html": [
       "<pre>| 74        | 94       | 1.000000  | 19.769601    | 0.745969          | 0.626178            |</pre>"
      ],
      "text/plain": [
       "| 74        | 94       | 1.000000  | 19.769601    | 0.745969          | 0.626178            |"
      ]
     },
     "metadata": {},
     "output_type": "display_data"
    },
    {
     "data": {
      "text/html": [
       "<pre>| 99        | 133      | 1.000000  | 27.280202    | 0.795783          | 0.631414            |</pre>"
      ],
      "text/plain": [
       "| 99        | 133      | 1.000000  | 27.280202    | 0.795783          | 0.631414            |"
      ]
     },
     "metadata": {},
     "output_type": "display_data"
    },
    {
     "data": {
      "text/html": [
       "<pre>| 124       | 167      | 1.000000  | 34.160101    | 0.834849          | 0.625131            |</pre>"
      ],
      "text/plain": [
       "| 124       | 167      | 1.000000  | 34.160101    | 0.834849          | 0.625131            |"
      ]
     },
     "metadata": {},
     "output_type": "display_data"
    },
    {
     "data": {
      "text/html": [
       "<pre>| 149       | 213      | 1.247567  | 41.909724    | 0.865854          | 0.636649            |</pre>"
      ],
      "text/plain": [
       "| 149       | 213      | 1.247567  | 41.909724    | 0.865854          | 0.636649            |"
      ]
     },
     "metadata": {},
     "output_type": "display_data"
    },
    {
     "data": {
      "text/html": [
       "<pre>| 174       | 243      | 1.000000  | 47.718344    | 0.891484          | 0.635602            |</pre>"
      ],
      "text/plain": [
       "| 174       | 243      | 1.000000  | 47.718344    | 0.891484          | 0.635602            |"
      ]
     },
     "metadata": {},
     "output_type": "display_data"
    },
    {
     "data": {
      "text/html": [
       "<pre>| 199       | 281      | 1.000000  | 54.308334    | 0.908433          | 0.620942            |</pre>"
      ],
      "text/plain": [
       "| 199       | 281      | 1.000000  | 54.308334    | 0.908433          | 0.620942            |"
      ]
     },
     "metadata": {},
     "output_type": "display_data"
    },
    {
     "data": {
      "text/html": [
       "<pre>+-----------+----------+-----------+--------------+-------------------+---------------------+</pre>"
      ],
      "text/plain": [
       "+-----------+----------+-----------+--------------+-------------------+---------------------+"
      ]
     },
     "metadata": {},
     "output_type": "display_data"
    }
   ],
   "source": [
    "# Train the image classifier\n",
    "model = tc.image_classifier.create(train_data, target=\"label\", \n",
    "                                   model=\"squeezenet_v1.1\",\n",
    "                                   verbose=True, max_iterations=200,\n",
    "                                   validation_set=val_data)"
   ]
  },
  {
   "cell_type": "code",
   "execution_count": null,
   "metadata": {},
   "outputs": [],
   "source": [
    "model.save(\"MultiSnacks_200.model\")"
   ]
  },
  {
   "cell_type": "markdown",
   "metadata": {},
   "source": [
    "Continue with trained or loaded model."
   ]
  },
  {
   "cell_type": "code",
   "execution_count": 17,
   "metadata": {},
   "outputs": [
    {
     "data": {
      "text/html": [
       "<pre>Analyzing and extracting image features.</pre>"
      ],
      "text/plain": [
       "Analyzing and extracting image features."
      ]
     },
     "metadata": {},
     "output_type": "display_data"
    },
    {
     "data": {
      "text/html": [
       "<pre>+------------------+--------------+------------------+</pre>"
      ],
      "text/plain": [
       "+------------------+--------------+------------------+"
      ]
     },
     "metadata": {},
     "output_type": "display_data"
    },
    {
     "data": {
      "text/html": [
       "<pre>| Images Processed | Elapsed Time | Percent Complete |</pre>"
      ],
      "text/plain": [
       "| Images Processed | Elapsed Time | Percent Complete |"
      ]
     },
     "metadata": {},
     "output_type": "display_data"
    },
    {
     "data": {
      "text/html": [
       "<pre>+------------------+--------------+------------------+</pre>"
      ],
      "text/plain": [
       "+------------------+--------------+------------------+"
      ]
     },
     "metadata": {},
     "output_type": "display_data"
    },
    {
     "data": {
      "text/html": [
       "<pre>| 64               | 494.554ms    | 6.5%             |</pre>"
      ],
      "text/plain": [
       "| 64               | 494.554ms    | 6.5%             |"
      ]
     },
     "metadata": {},
     "output_type": "display_data"
    },
    {
     "data": {
      "text/html": [
       "<pre>| 128              | 634.798ms    | 13.25%           |</pre>"
      ],
      "text/plain": [
       "| 128              | 634.798ms    | 13.25%           |"
      ]
     },
     "metadata": {},
     "output_type": "display_data"
    },
    {
     "data": {
      "text/html": [
       "<pre>| 192              | 774.589ms    | 20%              |</pre>"
      ],
      "text/plain": [
       "| 192              | 774.589ms    | 20%              |"
      ]
     },
     "metadata": {},
     "output_type": "display_data"
    },
    {
     "data": {
      "text/html": [
       "<pre>| 256              | 914.466ms    | 26.5%            |</pre>"
      ],
      "text/plain": [
       "| 256              | 914.466ms    | 26.5%            |"
      ]
     },
     "metadata": {},
     "output_type": "display_data"
    },
    {
     "data": {
      "text/html": [
       "<pre>| 320              | 1.05s        | 33.25%           |</pre>"
      ],
      "text/plain": [
       "| 320              | 1.05s        | 33.25%           |"
      ]
     },
     "metadata": {},
     "output_type": "display_data"
    },
    {
     "data": {
      "text/html": [
       "<pre>| 640              | 1.73s        | 66.5%            |</pre>"
      ],
      "text/plain": [
       "| 640              | 1.73s        | 66.5%            |"
      ]
     },
     "metadata": {},
     "output_type": "display_data"
    },
    {
     "data": {
      "text/html": [
       "<pre>| 952              | 2.44s        | 100%             |</pre>"
      ],
      "text/plain": [
       "| 952              | 2.44s        | 100%             |"
      ]
     },
     "metadata": {},
     "output_type": "display_data"
    },
    {
     "data": {
      "text/html": [
       "<pre>+------------------+--------------+------------------+</pre>"
      ],
      "text/plain": [
       "+------------------+--------------+------------------+"
      ]
     },
     "metadata": {},
     "output_type": "display_data"
    },
    {
     "name": "stdout",
     "output_type": "stream",
     "text": [
      "Accuracy:  0.6554621848739496\n",
      "Precision:  0.6535792163681828\n",
      "Recall:  0.6510697278911566\n"
     ]
    }
   ],
   "source": [
    "metrics = model.evaluate(test_data)\n",
    "print(\"Accuracy: \", metrics[\"accuracy\"])\n",
    "print(\"Precision: \", metrics[\"precision\"])\n",
    "print(\"Recall: \", metrics[\"recall\"])"
   ]
  },
  {
   "cell_type": "markdown",
   "metadata": {},
   "source": [
    "## Confusing apples with oranges?"
   ]
  },
  {
   "cell_type": "code",
   "execution_count": 19,
   "metadata": {},
   "outputs": [],
   "source": [
    "import numpy as np\n",
    "import seaborn as sns\n",
    "\n",
    "def compute_confusion_matrix(metrics, labels):\n",
    "    num_labels = len(labels)\n",
    "    label_to_index = {l:i for i,l in enumerate(labels)}\n",
    "\n",
    "    conf = np.zeros((num_labels, num_labels), dtype=np.int)\n",
    "    for row in metrics[\"confusion_matrix\"]:\n",
    "        true_label = label_to_index[row[\"target_label\"]]\n",
    "        pred_label = label_to_index[row[\"predicted_label\"]]\n",
    "        conf[true_label, pred_label] = row[\"count\"]\n",
    "        \n",
    "    return conf\n",
    "\n",
    "def plot_confusion_matrix(conf, labels, figsize=(8, 8)):\n",
    "    fig = plt.figure(figsize=figsize)\n",
    "    heatmap = sns.heatmap(conf, annot=True, fmt=\"d\")\n",
    "    heatmap.xaxis.set_ticklabels(labels, rotation=45, \n",
    "                                 ha=\"right\", fontsize=12)\n",
    "    heatmap.yaxis.set_ticklabels(labels, rotation=0, \n",
    "                                 ha=\"right\", fontsize=12)\n",
    "    plt.xlabel(\"Predicted label\", fontsize=12)\n",
    "    plt.ylabel(\"True label\", fontsize=12)\n",
    "    plt.show()"
   ]
  },
  {
   "cell_type": "code",
   "execution_count": 20,
   "metadata": {},
   "outputs": [
    {
     "data": {
      "image/png": "[encoded data removed]",
      "text/plain": [
       "<Figure size 1152x1152 with 2 Axes>"
      ]
     },
     "metadata": {
      "needs_background": "light"
     },
     "output_type": "display_data"
    }
   ],
   "source": [
    "conf = compute_confusion_matrix(metrics, labels)\n",
    "plot_confusion_matrix(conf, labels, figsize=(16, 16))"
   ]
  },
  {
   "cell_type": "markdown",
   "metadata": {},
   "source": [
    "### Computing recall for each class"
   ]
  },
  {
   "cell_type": "code",
   "execution_count": 21,
   "metadata": {
    "scrolled": true
   },
   "outputs": [
    {
     "name": "stdout",
     "output_type": "stream",
     "text": [
      "     apple 72.0%\n",
      "    banana 78.0%\n",
      "      cake 50.0%\n",
      "     candy 56.0%\n",
      "    carrot 72.0%\n",
      "    cookie 58.0%\n",
      "  doughnut 64.0%\n",
      "     grape 86.0%\n",
      "   hot dog 74.0%\n",
      " ice cream 44.0%\n",
      "     juice 76.0%\n",
      "    muffin 45.8%\n",
      "    orange 76.0%\n",
      " pineapple 65.0%\n",
      "   popcorn 60.0%\n",
      "   pretzel 52.0%\n",
      "     salad 80.0%\n",
      "strawberry 65.3%\n",
      "    waffle 64.0%\n",
      "watermelon 64.0%\n"
     ]
    }
   ],
   "source": [
    "for i, label in enumerate(labels):\n",
    "    correct = conf[i, i]\n",
    "    images_per_class = conf[i].sum()\n",
    "    print(\"%10s %.1f%%\" % (label, 100. * correct/images_per_class))"
   ]
  },
  {
   "cell_type": "markdown",
   "metadata": {},
   "source": [
    "## Training the classifier with regularization"
   ]
  },
  {
   "cell_type": "code",
   "execution_count": 24,
   "metadata": {},
   "outputs": [
    {
     "data": {
      "text/html": [
       "<pre>Analyzing and extracting image features.</pre>"
      ],
      "text/plain": [
       "Analyzing and extracting image features."
      ]
     },
     "metadata": {},
     "output_type": "display_data"
    },
    {
     "data": {
      "text/html": [
       "<pre>+------------------+--------------+------------------+</pre>"
      ],
      "text/plain": [
       "+------------------+--------------+------------------+"
      ]
     },
     "metadata": {},
     "output_type": "display_data"
    },
    {
     "data": {
      "text/html": [
       "<pre>| Images Processed | Elapsed Time | Percent Complete |</pre>"
      ],
      "text/plain": [
       "| Images Processed | Elapsed Time | Percent Complete |"
      ]
     },
     "metadata": {},
     "output_type": "display_data"
    },
    {
     "data": {
      "text/html": [
       "<pre>+------------------+--------------+------------------+</pre>"
      ],
      "text/plain": [
       "+------------------+--------------+------------------+"
      ]
     },
     "metadata": {},
     "output_type": "display_data"
    },
    {
     "data": {
      "text/html": [
       "<pre>| 64               | 476.757ms    | 1.25%            |</pre>"
      ],
      "text/plain": [
       "| 64               | 476.757ms    | 1.25%            |"
      ]
     },
     "metadata": {},
     "output_type": "display_data"
    },
    {
     "data": {
      "text/html": [
       "<pre>| 128              | 617.037ms    | 2.5%             |</pre>"
      ],
      "text/plain": [
       "| 128              | 617.037ms    | 2.5%             |"
      ]
     },
     "metadata": {},
     "output_type": "display_data"
    },
    {
     "data": {
      "text/html": [
       "<pre>| 192              | 756.807ms    | 3.75%            |</pre>"
      ],
      "text/plain": [
       "| 192              | 756.807ms    | 3.75%            |"
      ]
     },
     "metadata": {},
     "output_type": "display_data"
    },
    {
     "data": {
      "text/html": [
       "<pre>| 256              | 896.314ms    | 5.25%            |</pre>"
      ],
      "text/plain": [
       "| 256              | 896.314ms    | 5.25%            |"
      ]
     },
     "metadata": {},
     "output_type": "display_data"
    },
    {
     "data": {
      "text/html": [
       "<pre>| 320              | 1.03s        | 6.5%             |</pre>"
      ],
      "text/plain": [
       "| 320              | 1.03s        | 6.5%             |"
      ]
     },
     "metadata": {},
     "output_type": "display_data"
    },
    {
     "data": {
      "text/html": [
       "<pre>| 640              | 1.73s        | 13%              |</pre>"
      ],
      "text/plain": [
       "| 640              | 1.73s        | 13%              |"
      ]
     },
     "metadata": {},
     "output_type": "display_data"
    },
    {
     "data": {
      "text/html": [
       "<pre>| 1600             | 3.81s        | 32.75%           |</pre>"
      ],
      "text/plain": [
       "| 1600             | 3.81s        | 32.75%           |"
      ]
     },
     "metadata": {},
     "output_type": "display_data"
    },
    {
     "data": {
      "text/html": [
       "<pre>| 3200             | 7.32s        | 65.75%           |</pre>"
      ],
      "text/plain": [
       "| 3200             | 7.32s        | 65.75%           |"
      ]
     },
     "metadata": {},
     "output_type": "display_data"
    },
    {
     "data": {
      "text/html": [
       "<pre>| 4800             | 10.75s       | 98.5%            |</pre>"
      ],
      "text/plain": [
       "| 4800             | 10.75s       | 98.5%            |"
      ]
     },
     "metadata": {},
     "output_type": "display_data"
    },
    {
     "data": {
      "text/html": [
       "<pre>| 4838             | 10.89s       | 100%             |</pre>"
      ],
      "text/plain": [
       "| 4838             | 10.89s       | 100%             |"
      ]
     },
     "metadata": {},
     "output_type": "display_data"
    },
    {
     "data": {
      "text/html": [
       "<pre>+------------------+--------------+------------------+</pre>"
      ],
      "text/plain": [
       "+------------------+--------------+------------------+"
      ]
     },
     "metadata": {},
     "output_type": "display_data"
    },
    {
     "data": {
      "text/html": [
       "<pre>Analyzing and extracting image features.</pre>"
      ],
      "text/plain": [
       "Analyzing and extracting image features."
      ]
     },
     "metadata": {},
     "output_type": "display_data"
    },
    {
     "data": {
      "text/html": [
       "<pre>+------------------+--------------+------------------+</pre>"
      ],
      "text/plain": [
       "+------------------+--------------+------------------+"
      ]
     },
     "metadata": {},
     "output_type": "display_data"
    },
    {
     "data": {
      "text/html": [
       "<pre>| Images Processed | Elapsed Time | Percent Complete |</pre>"
      ],
      "text/plain": [
       "| Images Processed | Elapsed Time | Percent Complete |"
      ]
     },
     "metadata": {},
     "output_type": "display_data"
    },
    {
     "data": {
      "text/html": [
       "<pre>+------------------+--------------+------------------+</pre>"
      ],
      "text/plain": [
       "+------------------+--------------+------------------+"
      ]
     },
     "metadata": {},
     "output_type": "display_data"
    },
    {
     "data": {
      "text/html": [
       "<pre>| 64               | 466.136ms    | 6.5%             |</pre>"
      ],
      "text/plain": [
       "| 64               | 466.136ms    | 6.5%             |"
      ]
     },
     "metadata": {},
     "output_type": "display_data"
    },
    {
     "data": {
      "text/html": [
       "<pre>| 128              | 605.378ms    | 13.25%           |</pre>"
      ],
      "text/plain": [
       "| 128              | 605.378ms    | 13.25%           |"
      ]
     },
     "metadata": {},
     "output_type": "display_data"
    },
    {
     "data": {
      "text/html": [
       "<pre>| 192              | 744.692ms    | 20%              |</pre>"
      ],
      "text/plain": [
       "| 192              | 744.692ms    | 20%              |"
      ]
     },
     "metadata": {},
     "output_type": "display_data"
    },
    {
     "data": {
      "text/html": [
       "<pre>| 256              | 884.137ms    | 26.5%            |</pre>"
      ],
      "text/plain": [
       "| 256              | 884.137ms    | 26.5%            |"
      ]
     },
     "metadata": {},
     "output_type": "display_data"
    },
    {
     "data": {
      "text/html": [
       "<pre>| 320              | 1.02s        | 33.25%           |</pre>"
      ],
      "text/plain": [
       "| 320              | 1.02s        | 33.25%           |"
      ]
     },
     "metadata": {},
     "output_type": "display_data"
    },
    {
     "data": {
      "text/html": [
       "<pre>| 640              | 1.70s        | 66.5%            |</pre>"
      ],
      "text/plain": [
       "| 640              | 1.70s        | 66.5%            |"
      ]
     },
     "metadata": {},
     "output_type": "display_data"
    },
    {
     "data": {
      "text/html": [
       "<pre>| 955              | 2.41s        | 100%             |</pre>"
      ],
      "text/plain": [
       "| 955              | 2.41s        | 100%             |"
      ]
     },
     "metadata": {},
     "output_type": "display_data"
    },
    {
     "data": {
      "text/html": [
       "<pre>+------------------+--------------+------------------+</pre>"
      ],
      "text/plain": [
       "+------------------+--------------+------------------+"
      ]
     },
     "metadata": {},
     "output_type": "display_data"
    },
    {
     "data": {
      "text/html": [
       "<pre>Logistic regression:</pre>"
      ],
      "text/plain": [
       "Logistic regression:"
      ]
     },
     "metadata": {},
     "output_type": "display_data"
    },
    {
     "data": {
      "text/html": [
       "<pre>--------------------------------------------------------</pre>"
      ],
      "text/plain": [
       "--------------------------------------------------------"
      ]
     },
     "metadata": {},
     "output_type": "display_data"
    },
    {
     "data": {
      "text/html": [
       "<pre>Number of examples          : 4838</pre>"
      ],
      "text/plain": [
       "Number of examples          : 4838"
      ]
     },
     "metadata": {},
     "output_type": "display_data"
    },
    {
     "data": {
      "text/html": [
       "<pre>Number of classes           : 20</pre>"
      ],
      "text/plain": [
       "Number of classes           : 20"
      ]
     },
     "metadata": {},
     "output_type": "display_data"
    },
    {
     "data": {
      "text/html": [
       "<pre>Number of feature columns   : 1</pre>"
      ],
      "text/plain": [
       "Number of feature columns   : 1"
      ]
     },
     "metadata": {},
     "output_type": "display_data"
    },
    {
     "data": {
      "text/html": [
       "<pre>Number of unpacked features : 1000</pre>"
      ],
      "text/plain": [
       "Number of unpacked features : 1000"
      ]
     },
     "metadata": {},
     "output_type": "display_data"
    },
    {
     "data": {
      "text/html": [
       "<pre>Number of coefficients      : 19019</pre>"
      ],
      "text/plain": [
       "Number of coefficients      : 19019"
      ]
     },
     "metadata": {},
     "output_type": "display_data"
    },
    {
     "data": {
      "text/html": [
       "<pre>Starting L-BFGS</pre>"
      ],
      "text/plain": [
       "Starting L-BFGS"
      ]
     },
     "metadata": {},
     "output_type": "display_data"
    },
    {
     "data": {
      "text/html": [
       "<pre>--------------------------------------------------------</pre>"
      ],
      "text/plain": [
       "--------------------------------------------------------"
      ]
     },
     "metadata": {},
     "output_type": "display_data"
    },
    {
     "data": {
      "text/html": [
       "<pre>+-----------+----------+-----------+--------------+-------------------+---------------------+</pre>"
      ],
      "text/plain": [
       "+-----------+----------+-----------+--------------+-------------------+---------------------+"
      ]
     },
     "metadata": {},
     "output_type": "display_data"
    },
    {
     "data": {
      "text/html": [
       "<pre>| Iteration | Passes   | Step size | Elapsed Time | Training Accuracy | Validation Accuracy |</pre>"
      ],
      "text/plain": [
       "| Iteration | Passes   | Step size | Elapsed Time | Training Accuracy | Validation Accuracy |"
      ]
     },
     "metadata": {},
     "output_type": "display_data"
    },
    {
     "data": {
      "text/html": [
       "<pre>+-----------+----------+-----------+--------------+-------------------+---------------------+</pre>"
      ],
      "text/plain": [
       "+-----------+----------+-----------+--------------+-------------------+---------------------+"
      ]
     },
     "metadata": {},
     "output_type": "display_data"
    },
    {
     "data": {
      "text/html": [
       "<pre>| 0         | 4        | 0.250000  | 0.377966     | 0.078338          | 0.070157            |</pre>"
      ],
      "text/plain": [
       "| 0         | 4        | 0.250000  | 0.377966     | 0.078338          | 0.070157            |"
      ]
     },
     "metadata": {},
     "output_type": "display_data"
    },
    {
     "data": {
      "text/html": [
       "<pre>| 1         | 7        | 1.250000  | 0.744570     | 0.294957          | 0.273298            |</pre>"
      ],
      "text/plain": [
       "| 1         | 7        | 1.250000  | 0.744570     | 0.294957          | 0.273298            |"
      ]
     },
     "metadata": {},
     "output_type": "display_data"
    },
    {
     "data": {
      "text/html": [
       "<pre>| 2         | 8        | 1.250000  | 0.931261     | 0.139107          | 0.150785            |</pre>"
      ],
      "text/plain": [
       "| 2         | 8        | 1.250000  | 0.931261     | 0.139107          | 0.150785            |"
      ]
     },
     "metadata": {},
     "output_type": "display_data"
    },
    {
     "data": {
      "text/html": [
       "<pre>| 3         | 9        | 1.250000  | 1.128714     | 0.272427          | 0.268063            |</pre>"
      ],
      "text/plain": [
       "| 3         | 9        | 1.250000  | 1.128714     | 0.272427          | 0.268063            |"
      ]
     },
     "metadata": {},
     "output_type": "display_data"
    },
    {
     "data": {
      "text/html": [
       "<pre>| 4         | 10       | 1.250000  | 1.331893     | 0.243282          | 0.216754            |</pre>"
      ],
      "text/plain": [
       "| 4         | 10       | 1.250000  | 1.331893     | 0.243282          | 0.216754            |"
      ]
     },
     "metadata": {},
     "output_type": "display_data"
    },
    {
     "data": {
      "text/html": [
       "<pre>| 9         | 17       | 1.000000  | 2.652843     | 0.446672          | 0.406283            |</pre>"
      ],
      "text/plain": [
       "| 9         | 17       | 1.000000  | 2.652843     | 0.446672          | 0.406283            |"
      ]
     },
     "metadata": {},
     "output_type": "display_data"
    },
    {
     "data": {
      "text/html": [
       "<pre>| 24        | 35       | 1.000000  | 6.131676     | 0.600248          | 0.553927            |</pre>"
      ],
      "text/plain": [
       "| 24        | 35       | 1.000000  | 6.131676     | 0.600248          | 0.553927            |"
      ]
     },
     "metadata": {},
     "output_type": "display_data"
    },
    {
     "data": {
      "text/html": [
       "<pre>| 49        | 67       | 1.000000  | 12.192959    | 0.700083          | 0.603141            |</pre>"
      ],
      "text/plain": [
       "| 49        | 67       | 1.000000  | 12.192959    | 0.700083          | 0.603141            |"
      ]
     },
     "metadata": {},
     "output_type": "display_data"
    },
    {
     "data": {
      "text/html": [
       "<pre>| 74        | 98       | 1.000000  | 18.475967    | 0.736668          | 0.632461            |</pre>"
      ],
      "text/plain": [
       "| 74        | 98       | 1.000000  | 18.475967    | 0.736668          | 0.632461            |"
      ]
     },
     "metadata": {},
     "output_type": "display_data"
    },
    {
     "data": {
      "text/html": [
       "<pre>| 99        | 139      | 0.545858  | 25.783521    | 0.758371          | 0.645026            |</pre>"
      ],
      "text/plain": [
       "| 99        | 139      | 0.545858  | 25.783521    | 0.758371          | 0.645026            |"
      ]
     },
     "metadata": {},
     "output_type": "display_data"
    },
    {
     "data": {
      "text/html": [
       "<pre>| 124       | 183      | 2.755461  | 33.123541    | 0.780281          | 0.643979            |</pre>"
      ],
      "text/plain": [
       "| 124       | 183      | 2.755461  | 33.123541    | 0.780281          | 0.643979            |"
      ]
     },
     "metadata": {},
     "output_type": "display_data"
    },
    {
     "data": {
      "text/html": [
       "<pre>| 149       | 221      | 1.000000  | 39.888817    | 0.785449          | 0.646073            |</pre>"
      ],
      "text/plain": [
       "| 149       | 221      | 1.000000  | 39.888817    | 0.785449          | 0.646073            |"
      ]
     },
     "metadata": {},
     "output_type": "display_data"
    },
    {
     "data": {
      "text/html": [
       "<pre>| 174       | 258      | 0.965087  | 46.111951    | 0.784415          | 0.647120            |</pre>"
      ],
      "text/plain": [
       "| 174       | 258      | 0.965087  | 46.111951    | 0.784415          | 0.647120            |"
      ]
     },
     "metadata": {},
     "output_type": "display_data"
    },
    {
     "data": {
      "text/html": [
       "<pre>| 199       | 305      | 1.326954  | 53.436059    | 0.786895          | 0.649215            |</pre>"
      ],
      "text/plain": [
       "| 199       | 305      | 1.326954  | 53.436059    | 0.786895          | 0.649215            |"
      ]
     },
     "metadata": {},
     "output_type": "display_data"
    },
    {
     "data": {
      "text/html": [
       "<pre>+-----------+----------+-----------+--------------+-------------------+---------------------+</pre>"
      ],
      "text/plain": [
       "+-----------+----------+-----------+--------------+-------------------+---------------------+"
      ]
     },
     "metadata": {},
     "output_type": "display_data"
    }
   ],
   "source": [
    "model = tc.image_classifier.create(train_data, target=\"label\",\n",
    "                                   model=\"squeezenet_v1.1\",\n",
    "                                   verbose=True, max_iterations=200,\n",
    "                                   validation_set=val_data,\n",
    "                                   l2_penalty=10.0, l1_penalty=0.0,\n",
    "                                   convergence_threshold=1e-8)"
   ]
  },
  {
   "cell_type": "markdown",
   "metadata": {},
   "source": [
    "## Wrangling Turi Create code "
   ]
  },
  {
   "cell_type": "markdown",
   "metadata": {},
   "source": [
    "### Saving the extracted features"
   ]
  },
  {
   "cell_type": "code",
   "execution_count": 27,
   "metadata": {},
   "outputs": [
    {
     "name": "stdout",
     "output_type": "stream",
     "text": [
      "Downloading https://docs-assets.developer.apple.com/turicreate/models/squeezenet_v1.1-symbol.json\n",
      "Download completed: /var/folders/2h/jdd0ymmj2bgck8148622rkbr0000gn/T/model_cache/squeezenet_v1.1-symbol.json\n",
      "Downloading https://docs-assets.developer.apple.com/turicreate/models/squeezenet_v1.1-0000.params\n",
      "Download completed: /var/folders/2h/jdd0ymmj2bgck8148622rkbr0000gn/T/model_cache/squeezenet_v1.1-0000.params\n"
     ]
    }
   ],
   "source": [
    "from turicreate.toolkits import _pre_trained_models\n",
    "from turicreate.toolkits import _image_feature_extractor\n",
    "\n",
    "ptModel = _pre_trained_models.MODELS[\"squeezenet_v1.1\"]()\n",
    "feature_extractor = _image_feature_extractor.MXFeatureExtractor(ptModel)"
   ]
  },
  {
   "cell_type": "code",
   "execution_count": 29,
   "metadata": {},
   "outputs": [
    {
     "name": "stdout",
     "output_type": "stream",
     "text": [
      "Performing feature extraction on resized images...\n",
      "Completed   64/4838\n",
      "Completed  128/4838\n",
      "Completed  192/4838\n",
      "Completed  256/4838\n",
      "Completed  320/4838\n",
      "Completed  384/4838\n",
      "Completed  448/4838\n",
      "Completed  512/4838\n",
      "Completed  576/4838\n",
      "Completed  640/4838\n",
      "Completed  704/4838\n",
      "Completed  768/4838\n",
      "Completed  832/4838\n",
      "Completed  896/4838\n",
      "Completed  960/4838\n",
      "Completed 1024/4838\n",
      "Completed 1088/4838\n",
      "Completed 1152/4838\n",
      "Completed 1216/4838\n",
      "Completed 1280/4838\n",
      "Completed 1344/4838\n",
      "Completed 1408/4838\n",
      "Completed 1472/4838\n",
      "Completed 1536/4838\n",
      "Completed 1600/4838\n",
      "Completed 1664/4838\n",
      "Completed 1728/4838\n",
      "Completed 1792/4838\n",
      "Completed 1856/4838\n",
      "Completed 1920/4838\n",
      "Completed 1984/4838\n",
      "Completed 2048/4838\n",
      "Completed 2112/4838\n",
      "Completed 2176/4838\n",
      "Completed 2240/4838\n",
      "Completed 2304/4838\n",
      "Completed 2368/4838\n",
      "Completed 2432/4838\n",
      "Completed 2496/4838\n",
      "Completed 2560/4838\n",
      "Completed 2624/4838\n",
      "Completed 2688/4838\n",
      "Completed 2752/4838\n",
      "Completed 2816/4838\n",
      "Completed 2880/4838\n",
      "Completed 2944/4838\n",
      "Completed 3008/4838\n",
      "Completed 3072/4838\n",
      "Completed 3136/4838\n",
      "Completed 3200/4838\n",
      "Completed 3264/4838\n",
      "Completed 3328/4838\n",
      "Completed 3392/4838\n",
      "Completed 3456/4838\n",
      "Completed 3520/4838\n",
      "Completed 3584/4838\n",
      "Completed 3648/4838\n",
      "Completed 3712/4838\n",
      "Completed 3776/4838\n",
      "Completed 3840/4838\n",
      "Completed 3904/4838\n",
      "Completed 3968/4838\n",
      "Completed 4032/4838\n",
      "Completed 4096/4838\n",
      "Completed 4160/4838\n",
      "Completed 4224/4838\n",
      "Completed 4288/4838\n",
      "Completed 4352/4838\n",
      "Completed 4416/4838\n",
      "Completed 4480/4838\n",
      "Completed 4544/4838\n",
      "Completed 4608/4838\n",
      "Completed 4672/4838\n",
      "Completed 4736/4838\n",
      "Completed 4800/4838\n",
      "Completed 4838/4838\n"
     ]
    }
   ],
   "source": [
    "train_features = feature_extractor.extract_features(train_data, \n",
    "                                          \"image\", verbose=True)"
   ]
  },
  {
   "cell_type": "code",
   "execution_count": 30,
   "metadata": {},
   "outputs": [],
   "source": [
    "extracted_train_features = tc.SFrame({\n",
    "    \"label\": train_data[\"label\"],\n",
    "    \"__image_features__\": train_features,\n",
    "    })\n",
    "extracted_train_features.save(\"extracted_train_features.sframe\")"
   ]
  },
  {
   "cell_type": "code",
   "execution_count": 31,
   "metadata": {},
   "outputs": [
    {
     "name": "stdout",
     "output_type": "stream",
     "text": [
      "Performing feature extraction on resized images...\n",
      "Completed  64/955\n",
      "Completed 128/955\n",
      "Completed 192/955\n",
      "Completed 256/955\n",
      "Completed 320/955\n",
      "Completed 384/955\n",
      "Completed 448/955\n",
      "Completed 512/955\n",
      "Completed 576/955\n",
      "Completed 640/955\n",
      "Completed 704/955\n",
      "Completed 768/955\n",
      "Completed 832/955\n",
      "Completed 896/955\n",
      "Completed 955/955\n"
     ]
    }
   ],
   "source": [
    "val_features = feature_extractor.extract_features(val_data, \n",
    "                                      \"image\", verbose=True)\n",
    "\n",
    "extracted_val_features = tc.SFrame({\n",
    "    \"label\": val_data[\"label\"],\n",
    "    '__image_features__': val_features,\n",
    "    })\n",
    "    \n",
    "extracted_val_features.save(\"extracted_val_features.sframe\")  "
   ]
  },
  {
   "cell_type": "markdown",
   "metadata": {},
   "source": [
    "When you open this notebook again, run the next cell to reload saved features."
   ]
  },
  {
   "cell_type": "code",
   "execution_count": null,
   "metadata": {},
   "outputs": [],
   "source": [
    "# Run this the next time you open this notebook\n",
    "extracted_train_features = tc.SFrame(\"extracted_train_features.sframe\")\n",
    "extracted_val_features = tc.SFrame(\"extracted_val_features.sframe\")"
   ]
  },
  {
   "cell_type": "markdown",
   "metadata": {},
   "source": [
    "Continue working with extracted features."
   ]
  },
  {
   "cell_type": "code",
   "execution_count": 32,
   "metadata": {},
   "outputs": [
    {
     "data": {
      "text/html": [
       "<div style=\"max-height:1000px;max-width:1500px;overflow:auto;\"><table frame=\"box\" rules=\"cols\">\n",
       "    <tr>\n",
       "        <th style=\"padding-left: 1em; padding-right: 1em; text-align: center\">__image_features__</th>\n",
       "        <th style=\"padding-left: 1em; padding-right: 1em; text-align: center\">label</th>\n",
       "    </tr>\n",
       "    <tr>\n",
       "        <td style=\"padding-left: 1em; padding-right: 1em; text-align: center; vertical-align: top\">[6.1337385177612305,<br>10.12844181060791, ...</td>\n",
       "        <td style=\"padding-left: 1em; padding-right: 1em; text-align: center; vertical-align: top\">apple</td>\n",
       "    </tr>\n",
       "    <tr>\n",
       "        <td style=\"padding-left: 1em; padding-right: 1em; text-align: center; vertical-align: top\">[9.666999816894531,<br>14.665328025817871, ...</td>\n",
       "        <td style=\"padding-left: 1em; padding-right: 1em; text-align: center; vertical-align: top\">apple</td>\n",
       "    </tr>\n",
       "    <tr>\n",
       "        <td style=\"padding-left: 1em; padding-right: 1em; text-align: center; vertical-align: top\">[10.662524223327637,<br>15.472965240478516, ...</td>\n",
       "        <td style=\"padding-left: 1em; padding-right: 1em; text-align: center; vertical-align: top\">apple</td>\n",
       "    </tr>\n",
       "    <tr>\n",
       "        <td style=\"padding-left: 1em; padding-right: 1em; text-align: center; vertical-align: top\">[12.159001350402832,<br>11.231389045715332, ...</td>\n",
       "        <td style=\"padding-left: 1em; padding-right: 1em; text-align: center; vertical-align: top\">apple</td>\n",
       "    </tr>\n",
       "    <tr>\n",
       "        <td style=\"padding-left: 1em; padding-right: 1em; text-align: center; vertical-align: top\">[17.9743709564209,<br>19.089576721191406, ...</td>\n",
       "        <td style=\"padding-left: 1em; padding-right: 1em; text-align: center; vertical-align: top\">apple</td>\n",
       "    </tr>\n",
       "    <tr>\n",
       "        <td style=\"padding-left: 1em; padding-right: 1em; text-align: center; vertical-align: top\">[5.879778861999512,<br>9.116369247436523, ...</td>\n",
       "        <td style=\"padding-left: 1em; padding-right: 1em; text-align: center; vertical-align: top\">apple</td>\n",
       "    </tr>\n",
       "    <tr>\n",
       "        <td style=\"padding-left: 1em; padding-right: 1em; text-align: center; vertical-align: top\">[6.7489848136901855,<br>6.330108642578125, ...</td>\n",
       "        <td style=\"padding-left: 1em; padding-right: 1em; text-align: center; vertical-align: top\">apple</td>\n",
       "    </tr>\n",
       "    <tr>\n",
       "        <td style=\"padding-left: 1em; padding-right: 1em; text-align: center; vertical-align: top\">[5.711240291595459,<br>13.054986000061035, ...</td>\n",
       "        <td style=\"padding-left: 1em; padding-right: 1em; text-align: center; vertical-align: top\">apple</td>\n",
       "    </tr>\n",
       "    <tr>\n",
       "        <td style=\"padding-left: 1em; padding-right: 1em; text-align: center; vertical-align: top\">[8.625852584838867,<br>6.533729553222656, ...</td>\n",
       "        <td style=\"padding-left: 1em; padding-right: 1em; text-align: center; vertical-align: top\">apple</td>\n",
       "    </tr>\n",
       "    <tr>\n",
       "        <td style=\"padding-left: 1em; padding-right: 1em; text-align: center; vertical-align: top\">[6.440614700317383,<br>13.472396850585938, ...</td>\n",
       "        <td style=\"padding-left: 1em; padding-right: 1em; text-align: center; vertical-align: top\">apple</td>\n",
       "    </tr>\n",
       "</table>\n",
       "[10 rows x 2 columns]<br/>\n",
       "</div>"
      ],
      "text/plain": [
       "Columns:\n",
       "\t__image_features__\tarray\n",
       "\tlabel\tstr\n",
       "\n",
       "Rows: 10\n",
       "\n",
       "Data:\n",
       "+-------------------------------+-------+\n",
       "|       __image_features__      | label |\n",
       "+-------------------------------+-------+\n",
       "| [6.1337385177612305, 10.12... | apple |\n",
       "| [9.666999816894531, 14.665... | apple |\n",
       "| [10.662524223327637, 15.47... | apple |\n",
       "| [12.159001350402832, 11.23... | apple |\n",
       "| [17.9743709564209, 19.0895... | apple |\n",
       "| [5.879778861999512, 9.1163... | apple |\n",
       "| [6.7489848136901855, 6.330... | apple |\n",
       "| [5.711240291595459, 13.054... | apple |\n",
       "| [8.625852584838867, 6.5337... | apple |\n",
       "| [6.440614700317383, 13.472... | apple |\n",
       "+-------------------------------+-------+\n",
       "[10 rows x 2 columns]"
      ]
     },
     "execution_count": 32,
     "metadata": {},
     "output_type": "execute_result"
    }
   ],
   "source": [
    "extracted_train_features.head()"
   ]
  },
  {
   "cell_type": "code",
   "execution_count": null,
   "metadata": {},
   "outputs": [],
   "source": [
    "extracted_train_features[0][\"__image_features__\"]"
   ]
  },
  {
   "cell_type": "code",
   "execution_count": 34,
   "metadata": {},
   "outputs": [
    {
     "data": {
      "text/plain": [
       "1000"
      ]
     },
     "execution_count": 34,
     "metadata": {},
     "output_type": "execute_result"
    }
   ],
   "source": [
    "len(extracted_train_features[0][\"__image_features__\"])"
   ]
  },
  {
   "cell_type": "markdown",
   "metadata": {},
   "source": [
    "### Training the model"
   ]
  },
  {
   "cell_type": "code",
   "execution_count": 42,
   "metadata": {},
   "outputs": [
    {
     "data": {
      "text/html": [
       "<pre>Logistic regression:</pre>"
      ],
      "text/plain": [
       "Logistic regression:"
      ]
     },
     "metadata": {},
     "output_type": "display_data"
    },
    {
     "data": {
      "text/html": [
       "<pre>--------------------------------------------------------</pre>"
      ],
      "text/plain": [
       "--------------------------------------------------------"
      ]
     },
     "metadata": {},
     "output_type": "display_data"
    },
    {
     "data": {
      "text/html": [
       "<pre>Number of examples          : 4838</pre>"
      ],
      "text/plain": [
       "Number of examples          : 4838"
      ]
     },
     "metadata": {},
     "output_type": "display_data"
    },
    {
     "data": {
      "text/html": [
       "<pre>Number of classes           : 20</pre>"
      ],
      "text/plain": [
       "Number of classes           : 20"
      ]
     },
     "metadata": {},
     "output_type": "display_data"
    },
    {
     "data": {
      "text/html": [
       "<pre>Number of feature columns   : 1</pre>"
      ],
      "text/plain": [
       "Number of feature columns   : 1"
      ]
     },
     "metadata": {},
     "output_type": "display_data"
    },
    {
     "data": {
      "text/html": [
       "<pre>Number of unpacked features : 1000</pre>"
      ],
      "text/plain": [
       "Number of unpacked features : 1000"
      ]
     },
     "metadata": {},
     "output_type": "display_data"
    },
    {
     "data": {
      "text/html": [
       "<pre>Number of coefficients      : 19019</pre>"
      ],
      "text/plain": [
       "Number of coefficients      : 19019"
      ]
     },
     "metadata": {},
     "output_type": "display_data"
    },
    {
     "data": {
      "text/html": [
       "<pre>Starting L-BFGS</pre>"
      ],
      "text/plain": [
       "Starting L-BFGS"
      ]
     },
     "metadata": {},
     "output_type": "display_data"
    },
    {
     "data": {
      "text/html": [
       "<pre>--------------------------------------------------------</pre>"
      ],
      "text/plain": [
       "--------------------------------------------------------"
      ]
     },
     "metadata": {},
     "output_type": "display_data"
    },
    {
     "data": {
      "text/html": [
       "<pre>+-----------+----------+-----------+--------------+-------------------+---------------------+</pre>"
      ],
      "text/plain": [
       "+-----------+----------+-----------+--------------+-------------------+---------------------+"
      ]
     },
     "metadata": {},
     "output_type": "display_data"
    },
    {
     "data": {
      "text/html": [
       "<pre>| Iteration | Passes   | Step size | Elapsed Time | Training Accuracy | Validation Accuracy |</pre>"
      ],
      "text/plain": [
       "| Iteration | Passes   | Step size | Elapsed Time | Training Accuracy | Validation Accuracy |"
      ]
     },
     "metadata": {},
     "output_type": "display_data"
    },
    {
     "data": {
      "text/html": [
       "<pre>+-----------+----------+-----------+--------------+-------------------+---------------------+</pre>"
      ],
      "text/plain": [
       "+-----------+----------+-----------+--------------+-------------------+---------------------+"
      ]
     },
     "metadata": {},
     "output_type": "display_data"
    },
    {
     "data": {
      "text/html": [
       "<pre>| 0         | 4        | 0.250000  | 0.350604     | 0.078338          | 0.070157            |</pre>"
      ],
      "text/plain": [
       "| 0         | 4        | 0.250000  | 0.350604     | 0.078338          | 0.070157            |"
      ]
     },
     "metadata": {},
     "output_type": "display_data"
    },
    {
     "data": {
      "text/html": [
       "<pre>| 1         | 7        | 1.250000  | 0.720426     | 0.294750          | 0.273298            |</pre>"
      ],
      "text/plain": [
       "| 1         | 7        | 1.250000  | 0.720426     | 0.294750          | 0.273298            |"
      ]
     },
     "metadata": {},
     "output_type": "display_data"
    },
    {
     "data": {
      "text/html": [
       "<pre>| 2         | 8        | 1.250000  | 0.921298     | 0.139314          | 0.150785            |</pre>"
      ],
      "text/plain": [
       "| 2         | 8        | 1.250000  | 0.921298     | 0.139314          | 0.150785            |"
      ]
     },
     "metadata": {},
     "output_type": "display_data"
    },
    {
     "data": {
      "text/html": [
       "<pre>| 3         | 9        | 1.250000  | 1.158684     | 0.272220          | 0.268063            |</pre>"
      ],
      "text/plain": [
       "| 3         | 9        | 1.250000  | 1.158684     | 0.272220          | 0.268063            |"
      ]
     },
     "metadata": {},
     "output_type": "display_data"
    },
    {
     "data": {
      "text/html": [
       "<pre>| 4         | 10       | 1.250000  | 1.360710     | 0.243696          | 0.215707            |</pre>"
      ],
      "text/plain": [
       "| 4         | 10       | 1.250000  | 1.360710     | 0.243696          | 0.215707            |"
      ]
     },
     "metadata": {},
     "output_type": "display_data"
    },
    {
     "data": {
      "text/html": [
       "<pre>| 9         | 17       | 1.000000  | 2.626963     | 0.447499          | 0.406283            |</pre>"
      ],
      "text/plain": [
       "| 9         | 17       | 1.000000  | 2.626963     | 0.447499          | 0.406283            |"
      ]
     },
     "metadata": {},
     "output_type": "display_data"
    },
    {
     "data": {
      "text/html": [
       "<pre>| 24        | 35       | 1.000000  | 6.145334     | 0.600248          | 0.553927            |</pre>"
      ],
      "text/plain": [
       "| 24        | 35       | 1.000000  | 6.145334     | 0.600248          | 0.553927            |"
      ]
     },
     "metadata": {},
     "output_type": "display_data"
    },
    {
     "data": {
      "text/html": [
       "<pre>| 49        | 71       | 1.000000  | 13.044865    | 0.699256          | 0.607330            |</pre>"
      ],
      "text/plain": [
       "| 49        | 71       | 1.000000  | 13.044865    | 0.699256          | 0.607330            |"
      ]
     },
     "metadata": {},
     "output_type": "display_data"
    },
    {
     "data": {
      "text/html": [
       "<pre>| 74        | 112      | 0.459263  | 19.951853    | 0.738115          | 0.631414            |</pre>"
      ],
      "text/plain": [
       "| 74        | 112      | 0.459263  | 19.951853    | 0.738115          | 0.631414            |"
      ]
     },
     "metadata": {},
     "output_type": "display_data"
    },
    {
     "data": {
      "text/html": [
       "<pre>| 99        | 149      | 1.000000  | 26.729222    | 0.762505          | 0.648168            |</pre>"
      ],
      "text/plain": [
       "| 99        | 149      | 1.000000  | 26.729222    | 0.762505          | 0.648168            |"
      ]
     },
     "metadata": {},
     "output_type": "display_data"
    },
    {
     "data": {
      "text/html": [
       "<pre>| 124       | 201      | 1.000000  | 35.434841    | 0.781728          | 0.642932            |</pre>"
      ],
      "text/plain": [
       "| 124       | 201      | 1.000000  | 35.434841    | 0.781728          | 0.642932            |"
      ]
     },
     "metadata": {},
     "output_type": "display_data"
    },
    {
     "data": {
      "text/html": [
       "<pre>| 149       | 237      | 1.000000  | 41.870859    | 0.787309          | 0.649215            |</pre>"
      ],
      "text/plain": [
       "| 149       | 237      | 1.000000  | 41.870859    | 0.787309          | 0.649215            |"
      ]
     },
     "metadata": {},
     "output_type": "display_data"
    },
    {
     "data": {
      "text/html": [
       "<pre>| 174       | 282      | 0.532208  | 49.044851    | 0.789169          | 0.649215            |</pre>"
      ],
      "text/plain": [
       "| 174       | 282      | 0.532208  | 49.044851    | 0.789169          | 0.649215            |"
      ]
     },
     "metadata": {},
     "output_type": "display_data"
    },
    {
     "data": {
      "text/html": [
       "<pre>| 199       | 316      | 0.890721  | 55.313713    | 0.787309          | 0.650262            |</pre>"
      ],
      "text/plain": [
       "| 199       | 316      | 0.890721  | 55.313713    | 0.787309          | 0.650262            |"
      ]
     },
     "metadata": {},
     "output_type": "display_data"
    },
    {
     "data": {
      "text/html": [
       "<pre>| 224       | 356      | 1.000000  | 62.318101    | 0.787516          | 0.653403            |</pre>"
      ],
      "text/plain": [
       "| 224       | 356      | 1.000000  | 62.318101    | 0.787516          | 0.653403            |"
      ]
     },
     "metadata": {},
     "output_type": "display_data"
    },
    {
     "data": {
      "text/html": [
       "<pre>| 249       | 391      | 1.000000  | 69.499439    | 0.787309          | 0.652356            |</pre>"
      ],
      "text/plain": [
       "| 249       | 391      | 1.000000  | 69.499439    | 0.787309          | 0.652356            |"
      ]
     },
     "metadata": {},
     "output_type": "display_data"
    },
    {
     "data": {
      "text/html": [
       "<pre>| 274       | 423      | 0.755726  | 75.568919    | 0.787516          | 0.649215            |</pre>"
      ],
      "text/plain": [
       "| 274       | 423      | 0.755726  | 75.568919    | 0.787516          | 0.649215            |"
      ]
     },
     "metadata": {},
     "output_type": "display_data"
    },
    {
     "data": {
      "text/html": [
       "<pre>| 299       | 461      | 1.000000  | 81.920141    | 0.788549          | 0.649215            |</pre>"
      ],
      "text/plain": [
       "| 299       | 461      | 1.000000  | 81.920141    | 0.788549          | 0.649215            |"
      ]
     },
     "metadata": {},
     "output_type": "display_data"
    },
    {
     "data": {
      "text/html": [
       "<pre>| 324       | 497      | 1.000000  | 88.294561    | 0.788962          | 0.651309            |</pre>"
      ],
      "text/plain": [
       "| 324       | 497      | 1.000000  | 88.294561    | 0.788962          | 0.651309            |"
      ]
     },
     "metadata": {},
     "output_type": "display_data"
    },
    {
     "data": {
      "text/html": [
       "<pre>| 349       | 537      | 1.473795  | 95.164849    | 0.787929          | 0.651309            |</pre>"
      ],
      "text/plain": [
       "| 349       | 537      | 1.473795  | 95.164849    | 0.787929          | 0.651309            |"
      ]
     },
     "metadata": {},
     "output_type": "display_data"
    },
    {
     "data": {
      "text/html": [
       "<pre>| 374       | 583      | 1.000000  | 102.827020   | 0.788549          | 0.650262            |</pre>"
      ],
      "text/plain": [
       "| 374       | 583      | 1.000000  | 102.827020   | 0.788549          | 0.650262            |"
      ]
     },
     "metadata": {},
     "output_type": "display_data"
    },
    {
     "data": {
      "text/html": [
       "<pre>| 399       | 617      | 0.500000  | 109.270224   | 0.787929          | 0.650262            |</pre>"
      ],
      "text/plain": [
       "| 399       | 617      | 0.500000  | 109.270224   | 0.787929          | 0.650262            |"
      ]
     },
     "metadata": {},
     "output_type": "display_data"
    },
    {
     "data": {
      "text/html": [
       "<pre>+-----------+----------+-----------+--------------+-------------------+---------------------+</pre>"
      ],
      "text/plain": [
       "+-----------+----------+-----------+--------------+-------------------+---------------------+"
      ]
     },
     "metadata": {},
     "output_type": "display_data"
    }
   ],
   "source": [
    "lr_model = tc.logistic_classifier.create(extracted_train_features,\n",
    "                             features=[\"__image_features__\"],\n",
    "                             target=\"label\",\n",
    "                             validation_set=extracted_val_features,\n",
    "                             max_iterations=400,\n",
    "                             seed=None,\n",
    "                             verbose=True,\n",
    "                             l2_penalty=10.0,\n",
    "                             l1_penalty=0.0,\n",
    "                             convergence_threshold=1e-8)"
   ]
  },
  {
   "cell_type": "code",
   "execution_count": 39,
   "metadata": {},
   "outputs": [],
   "source": [
    "tc.logistic_classifier.create?"
   ]
  },
  {
   "cell_type": "markdown",
   "metadata": {},
   "source": [
    "### Convert into an image classifier model"
   ]
  },
  {
   "cell_type": "code",
   "execution_count": 43,
   "metadata": {},
   "outputs": [],
   "source": [
    "from turicreate.toolkits.image_classifier import ImageClassifier\n",
    "\n",
    "state = {\n",
    "    'classifier': lr_model,\n",
    "    'model': ptModel.name,\n",
    "    'max_iterations': lr_model.max_iterations,\n",
    "    'feature_extractor': feature_extractor,\n",
    "    'input_image_shape': ptModel.input_image_shape,\n",
    "    'target': lr_model.target,\n",
    "    'feature': \"image\",\n",
    "    'num_features': 1,\n",
    "    'num_classes': lr_model.num_classes,\n",
    "    'classes': lr_model.classes,\n",
    "    'num_examples': lr_model.num_examples,\n",
    "    'training_time': lr_model.training_time,\n",
    "    'training_loss': lr_model.training_loss,\n",
    "}\n",
    "model = ImageClassifier(state)"
   ]
  },
  {
   "cell_type": "code",
   "execution_count": 44,
   "metadata": {},
   "outputs": [
    {
     "name": "stdout",
     "output_type": "stream",
     "text": [
      "Performing feature extraction on resized images...\n",
      "Completed  64/952\n",
      "Completed 128/952\n",
      "Completed 192/952\n",
      "Completed 256/952\n",
      "Completed 320/952\n",
      "Completed 384/952\n",
      "Completed 448/952\n",
      "Completed 512/952\n",
      "Completed 576/952\n",
      "Completed 640/952\n",
      "Completed 704/952\n",
      "Completed 768/952\n",
      "Completed 832/952\n",
      "Completed 896/952\n",
      "Completed 952/952\n",
      "Accuracy:  0.6712184873949579\n",
      "Precision:  0.6755916486674352\n",
      "Recall:  0.6698818027210884\n"
     ]
    }
   ],
   "source": [
    "metrics = model.evaluate(test_data)\n",
    "print(\"Accuracy: \", metrics[\"accuracy\"])\n",
    "print(\"Precision: \", metrics[\"precision\"])\n",
    "print(\"Recall: \", metrics[\"recall\"])"
   ]
  },
  {
   "cell_type": "code",
   "execution_count": 45,
   "metadata": {},
   "outputs": [],
   "source": [
    "model.evaluate??"
   ]
  },
  {
   "cell_type": "markdown",
   "metadata": {},
   "source": [
    "### Saving the model"
   ]
  },
  {
   "cell_type": "code",
   "execution_count": 53,
   "metadata": {},
   "outputs": [],
   "source": [
    "model.save(\"MultiSnacks_regularized.model\")"
   ]
  },
  {
   "cell_type": "code",
   "execution_count": 54,
   "metadata": {},
   "outputs": [],
   "source": [
    "model.export_coreml(\"MultiSnacks_regularized.mlmodel\")"
   ]
  },
  {
   "cell_type": "code",
   "execution_count": 48,
   "metadata": {},
   "outputs": [
    {
     "data": {
      "text/plain": [
       "Class                                    : ImageClassifier\n",
       "\n",
       "Schema\n",
       "------\n",
       "Number of classes                        : 20\n",
       "Number of feature columns                : 1\n",
       "Input image shape                        : (3, 227, 227)\n",
       "\n",
       "Training summary\n",
       "----------------\n",
       "Number of examples                       : 4838\n",
       "Training loss                            : 3952.4993\n",
       "Training time (sec)                      : 59.2703"
      ]
     },
     "execution_count": 48,
     "metadata": {},
     "output_type": "execute_result"
    }
   ],
   "source": [
    "model"
   ]
  },
  {
   "cell_type": "code",
   "execution_count": 49,
   "metadata": {},
   "outputs": [
    {
     "data": {
      "text/plain": [
       "Class                          : LogisticClassifier\n",
       "\n",
       "Schema\n",
       "------\n",
       "Number of coefficients         : 19019\n",
       "Number of examples             : 4838\n",
       "Number of classes              : 20\n",
       "Number of feature columns      : 1\n",
       "Number of unpacked features    : 1000\n",
       "\n",
       "Hyperparameters\n",
       "---------------\n",
       "L1 penalty                     : 0.0\n",
       "L2 penalty                     : 10.0\n",
       "\n",
       "Training Summary\n",
       "----------------\n",
       "Solver                         : lbfgs\n",
       "Solver iterations              : 400\n",
       "Solver status                  : Completed (Iteration limit reached).\n",
       "Training time (sec)            : 59.2703\n",
       "\n",
       "Settings\n",
       "--------\n",
       "Log-likelihood                 : 3952.4993\n",
       "\n",
       "Highest Positive Coefficients\n",
       "-----------------------------\n",
       "(intercept)                    : 1.8933\n",
       "(intercept)                    : 1.4506\n",
       "(intercept)                    : 0.6717\n",
       "(intercept)                    : 0.5232\n",
       "(intercept)                    : 0.4072\n",
       "\n",
       "Lowest Negative Coefficients\n",
       "----------------------------\n",
       "(intercept)                    : -1.6521\n",
       "(intercept)                    : -1.5588\n",
       "(intercept)                    : -1.4143\n",
       "(intercept)                    : -0.8959\n",
       "(intercept)                    : -0.5863"
      ]
     },
     "execution_count": 49,
     "metadata": {},
     "output_type": "execute_result"
    }
   ],
   "source": [
    "model.classifier"
   ]
  },
  {
   "cell_type": "markdown",
   "metadata": {},
   "source": [
    "Reload the no-regularization model to compare the coefficients."
   ]
  },
  {
   "cell_type": "code",
   "execution_count": 57,
   "metadata": {},
   "outputs": [
    {
     "data": {
      "text/plain": [
       "Class                          : LogisticClassifier\n",
       "\n",
       "Schema\n",
       "------\n",
       "Number of coefficients         : 19019\n",
       "Number of examples             : 4606\n",
       "Number of classes              : 20\n",
       "Number of feature columns      : 1\n",
       "Number of unpacked features    : 1000\n",
       "\n",
       "Hyperparameters\n",
       "---------------\n",
       "L1 penalty                     : 0.0\n",
       "L2 penalty                     : 0.01\n",
       "\n",
       "Training Summary\n",
       "----------------\n",
       "Solver                         : lbfgs\n",
       "Solver iterations              : 135\n",
       "Solver status                  : Completed (Iteration limit reached).\n",
       "Training time (sec)            : 69.3918\n",
       "\n",
       "Settings\n",
       "--------\n",
       "Log-likelihood                 : 2400.3284\n",
       "\n",
       "Highest Positive Coefficients\n",
       "-----------------------------\n",
       "(intercept)                    : 0.3808\n",
       "(intercept)                    : 0.3799\n",
       "(intercept)                    : 0.1918\n",
       "__image_features__[839]        : 0.1864\n",
       "(intercept)                    : 0.15\n",
       "\n",
       "Lowest Negative Coefficients\n",
       "----------------------------\n",
       "(intercept)                    : -0.3996\n",
       "(intercept)                    : -0.3856\n",
       "(intercept)                    : -0.3353\n",
       "(intercept)                    : -0.2783\n",
       "__image_features__[820]        : -0.1423"
      ]
     },
     "execution_count": 57,
     "metadata": {},
     "output_type": "execute_result"
    }
   ],
   "source": [
    "no_reg_model = tc.load_model(\"MultiSnacks.model\")\n",
    "no_reg_model.classifier"
   ]
  },
  {
   "cell_type": "code",
   "execution_count": null,
   "metadata": {},
   "outputs": [],
   "source": []
  }
 ],
 "metadata": {
  "kernelspec": {
   "display_name": "Python 3",
   "language": "python",
   "name": "python3"
  },
  "language_info": {
   "codemirror_mode": {
    "name": "ipython",
    "version": 3
   },
   "file_extension": ".py",
   "mimetype": "text/x-python",
   "name": "python",
   "nbconvert_exporter": "python",
   "pygments_lexer": "ipython3",
   "version": "3.6.8"
  }
 },
 "nbformat": 4,
 "nbformat_minor": 2
}
